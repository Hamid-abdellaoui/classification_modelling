{
 "cells": [
  {
   "attachments": {},
   "cell_type": "markdown",
   "metadata": {
    "_cell_guid": "83708667-4fdc-1563-7b3a-06b6575d2865"
   },
   "source": [
    "# Classification-Master Template\n"
   ]
  },
  {
   "cell_type": "markdown",
   "metadata": {},
   "source": [
    "## Content"
   ]
  },
  {
   "cell_type": "markdown",
   "metadata": {},
   "source": [
    "* [1. Introduction](#0)\n",
    "* [2. Getting Started - Load Libraries and Dataset](#1)\n",
    "    * [2.1. Load Libraries](#1.1)    \n",
    "    * [2.2. Load Dataset](#1.2)\n",
    "* [3. Exploratory Data Analysis](#2)\n",
    "    * [3.1 Descriptive Statistics](#2.1)    \n",
    "    * [3.2. Data Visualisation](#2.2)\n",
    "* [4. Data Preparation](#3)\n",
    "    * [4.1 Data Cleaning](#3.1)\n",
    "    * [4.2.Handling Categorical Data](#3.2)\n",
    "    * [4.3.Feature Selection](#3.3)\n",
    "    * [4.3.Data Transformation](#3.4) \n",
    "        * [4.3.1 Rescaling ](#3.4.1)\n",
    "        * [4.3.2 Standardization](#3.4.2)\n",
    "        * [4.3.3 Normalization](#3.4.3)    \n",
    "* [5.Evaluate Algorithms and Models](#4)        \n",
    "    * [5.1. Train/Test Split](#4.1)\n",
    "    * [5.2. Test Options and Evaluation Metrics](#4.2)\n",
    "    * [5.3. Compare Models and Algorithms](#4.3)\n",
    "        * [5.3.1 Common Classification Models](#4.3.1)\n",
    "        * [5.3.2 Ensemble Models](#4.3.2)\n",
    "        * [5.3.3 Deep Learning Models](#4.3.3)    \n",
    "* [6. Model Tuning and Grid Search](#5)  \n",
    "* [7. Finalize the Model](#6)  \n",
    "    * [7.1. Results on test dataset](#6.1)\n",
    "    * [7.1. Variable Intuition/Feature Selection](#6.2) \n",
    "    * [7.3. Save model for later use](#6.3)\n"
   ]
  },
  {
   "cell_type": "markdown",
   "metadata": {},
   "source": [
    "<a id='0'></a>\n",
    "# 1. Introduction"
   ]
  },
  {
   "attachments": {},
   "cell_type": "markdown",
   "metadata": {},
   "source": [
    " Following models are implemented and checked:  \n",
    "\n",
    "    * Logistic Regression\n",
    "    * Linear Discriminant Analysis\n",
    "    * K Nearest Neighbors \n",
    "    * Decision Tree (CART)\n",
    "    * Support Vector Machine \n",
    "    * Ada Boost\n",
    "    * Gradient Boosting Method\n",
    "    * Random Forest\n",
    "    * Extra Trees\n",
    "    * Neural Network - Shallow \n",
    "    * Deep Neural Network "
   ]
  },
  {
   "cell_type": "markdown",
   "metadata": {},
   "source": [
    "<a id='1'></a>\n",
    "# 2. Getting Started- Loading the data and python packages"
   ]
  },
  {
   "cell_type": "markdown",
   "metadata": {},
   "source": [
    "<a id='1.1'></a>\n",
    "## 2.1. Loading the python packages"
   ]
  },
  {
   "cell_type": "code",
   "execution_count": 120,
   "metadata": {},
   "outputs": [],
   "source": [
    "#Diable the warnings\n",
    "import warnings\n",
    "warnings.filterwarnings('ignore')"
   ]
  },
  {
   "cell_type": "code",
   "execution_count": 121,
   "metadata": {
    "_cell_guid": "5d8fee34-f454-2642-8b06-ed719f0317e1"
   },
   "outputs": [],
   "source": [
    "# Load libraries\n",
    "import numpy as np\n",
    "import pandas as pd\n",
    "from matplotlib import pyplot\n",
    "from pandas import read_csv, set_option\n",
    "from pandas.plotting import scatter_matrix\n",
    "import seaborn as sns\n",
    "from sklearn.preprocessing import StandardScaler\n",
    "from sklearn.model_selection import train_test_split, KFold, cross_val_score, GridSearchCV\n",
    "from sklearn.linear_model import LogisticRegression\n",
    "from sklearn.tree import DecisionTreeClassifier\n",
    "from sklearn.neighbors import KNeighborsClassifier\n",
    "from sklearn.discriminant_analysis import LinearDiscriminantAnalysis\n",
    "from sklearn.naive_bayes import GaussianNB\n",
    "from sklearn.svm import SVC\n",
    "from sklearn.neural_network import MLPClassifier\n",
    "from sklearn.pipeline import Pipeline\n",
    "from sklearn.ensemble import AdaBoostClassifier, GradientBoostingClassifier, RandomForestClassifier, ExtraTreesClassifier\n",
    "from sklearn.metrics import classification_report, confusion_matrix, accuracy_score\n",
    "\n",
    "#Libraries for Deep Learning Models\n",
    "from keras.models import Sequential\n",
    "from keras.layers import Dense\n",
    "from keras.wrappers.scikit_learn import KerasClassifier\n",
    "from tensorflow.keras.optimizers import SGD\n",
    "\n",
    "#Libraries for Saving the Model\n",
    "from pickle import dump\n",
    "from pickle import load"
   ]
  },
  {
   "cell_type": "markdown",
   "metadata": {},
   "source": [
    "<a id='1.2'></a>\n",
    "## 2.2. Loading the Data"
   ]
  },
  {
   "cell_type": "code",
   "execution_count": 122,
   "metadata": {
    "_cell_guid": "787e35f7-bf9e-0969-8d13-a54fa87f3519"
   },
   "outputs": [
    {
     "data": {
      "text/html": [
       "<div>\n",
       "<style scoped>\n",
       "    .dataframe tbody tr th:only-of-type {\n",
       "        vertical-align: middle;\n",
       "    }\n",
       "\n",
       "    .dataframe tbody tr th {\n",
       "        vertical-align: top;\n",
       "    }\n",
       "\n",
       "    .dataframe thead th {\n",
       "        text-align: right;\n",
       "    }\n",
       "</style>\n",
       "<table border=\"1\" class=\"dataframe\">\n",
       "  <thead>\n",
       "    <tr style=\"text-align: right;\">\n",
       "      <th></th>\n",
       "      <th>0</th>\n",
       "      <th>1</th>\n",
       "      <th>2</th>\n",
       "      <th>3</th>\n",
       "      <th>4</th>\n",
       "      <th>5</th>\n",
       "      <th>6</th>\n",
       "      <th>7</th>\n",
       "    </tr>\n",
       "  </thead>\n",
       "  <tbody>\n",
       "    <tr>\n",
       "      <th>0</th>\n",
       "      <td>Display</td>\n",
       "      <td>cor_sales_in_vol</td>\n",
       "      <td>cor_sales_in_val</td>\n",
       "      <td>CA_mag</td>\n",
       "      <td>value</td>\n",
       "      <td>ENSEIGNE</td>\n",
       "      <td>VenteConv</td>\n",
       "      <td>Feature</td>\n",
       "    </tr>\n",
       "    <tr>\n",
       "      <th>1</th>\n",
       "      <td>Y</td>\n",
       "      <td>X1</td>\n",
       "      <td>X2</td>\n",
       "      <td>X3</td>\n",
       "      <td>X4</td>\n",
       "      <td>X5</td>\n",
       "      <td>X6</td>\n",
       "      <td>X7</td>\n",
       "    </tr>\n",
       "  </tbody>\n",
       "</table>\n",
       "</div>"
      ],
      "text/plain": [
       "         0                 1                 2       3      4         5          6        7\n",
       "0  Display  cor_sales_in_vol  cor_sales_in_val  CA_mag  value  ENSEIGNE  VenteConv  Feature\n",
       "1        Y                X1                X2      X3     X4        X5         X6       X7"
      ]
     },
     "execution_count": 122,
     "metadata": {},
     "output_type": "execute_result"
    }
   ],
   "source": [
    "# load dataset\n",
    "url = \"./new_Base_CDM_balanced_V2.csv\"\n",
    "dataset = pd.read_csv(url)\n",
    "columns = [[dataset[str(c)][0],c ]for c in dataset.columns]\n",
    "\n",
    "dataset.drop(index=dataset.index[0], \n",
    "        axis=0, \n",
    "        inplace=True)\n",
    "cols =pd.DataFrame(columns)\n",
    "cols.transpose()"
   ]
  },
  {
   "cell_type": "code",
   "execution_count": 123,
   "metadata": {},
   "outputs": [],
   "source": [
    "#Renaming variables \n",
    "dataset.rename(columns = dict(zip(cols[1], cols[0])) , inplace = True)"
   ]
  },
  {
   "cell_type": "code",
   "execution_count": 124,
   "metadata": {},
   "outputs": [],
   "source": [
    "quantitative_variables = ['cor_sales_in_vol', 'cor_sales_in_val', 'CA_mag', 'value', 'VenteConv']\n",
    "for column_name in quantitative_variables :\n",
    "    dataset[column_name]=dataset[column_name].astype(float)"
   ]
  },
  {
   "cell_type": "code",
   "execution_count": 125,
   "metadata": {},
   "outputs": [
    {
     "data": {
      "text/html": [
       "<div>\n",
       "<style scoped>\n",
       "    .dataframe tbody tr th:only-of-type {\n",
       "        vertical-align: middle;\n",
       "    }\n",
       "\n",
       "    .dataframe tbody tr th {\n",
       "        vertical-align: top;\n",
       "    }\n",
       "\n",
       "    .dataframe thead th {\n",
       "        text-align: right;\n",
       "    }\n",
       "</style>\n",
       "<table border=\"1\" class=\"dataframe\">\n",
       "  <thead>\n",
       "    <tr style=\"text-align: right;\">\n",
       "      <th></th>\n",
       "      <th>Display</th>\n",
       "      <th>cor_sales_in_vol</th>\n",
       "      <th>cor_sales_in_val</th>\n",
       "      <th>CA_mag</th>\n",
       "      <th>value</th>\n",
       "      <th>ENSEIGNE</th>\n",
       "      <th>VenteConv</th>\n",
       "      <th>Feature</th>\n",
       "    </tr>\n",
       "  </thead>\n",
       "  <tbody>\n",
       "    <tr>\n",
       "      <th>1</th>\n",
       "      <td>No_Displ</td>\n",
       "      <td>2.0</td>\n",
       "      <td>20.20</td>\n",
       "      <td>47400.0</td>\n",
       "      <td>36.0</td>\n",
       "      <td>CORA</td>\n",
       "      <td>72.0</td>\n",
       "      <td>No_Feat</td>\n",
       "    </tr>\n",
       "    <tr>\n",
       "      <th>2</th>\n",
       "      <td>No_Displ</td>\n",
       "      <td>2.0</td>\n",
       "      <td>11.90</td>\n",
       "      <td>62000.0</td>\n",
       "      <td>24.0</td>\n",
       "      <td>LECLERC</td>\n",
       "      <td>48.0</td>\n",
       "      <td>No_Feat</td>\n",
       "    </tr>\n",
       "    <tr>\n",
       "      <th>3</th>\n",
       "      <td>No_Displ</td>\n",
       "      <td>8.0</td>\n",
       "      <td>29.52</td>\n",
       "      <td>60661.0</td>\n",
       "      <td>60.0</td>\n",
       "      <td>AUCHAN</td>\n",
       "      <td>480.0</td>\n",
       "      <td>No_Feat</td>\n",
       "    </tr>\n",
       "    <tr>\n",
       "      <th>4</th>\n",
       "      <td>No_Displ</td>\n",
       "      <td>2.0</td>\n",
       "      <td>16.20</td>\n",
       "      <td>59677.0</td>\n",
       "      <td>19.0</td>\n",
       "      <td>CARREFOUR</td>\n",
       "      <td>38.0</td>\n",
       "      <td>No_Feat</td>\n",
       "    </tr>\n",
       "    <tr>\n",
       "      <th>5</th>\n",
       "      <td>No_Displ</td>\n",
       "      <td>5.0</td>\n",
       "      <td>62.10</td>\n",
       "      <td>142602.0</td>\n",
       "      <td>50.0</td>\n",
       "      <td>CORA</td>\n",
       "      <td>250.0</td>\n",
       "      <td>No_Feat</td>\n",
       "    </tr>\n",
       "  </tbody>\n",
       "</table>\n",
       "</div>"
      ],
      "text/plain": [
       "    Display  cor_sales_in_vol  cor_sales_in_val    CA_mag  value   ENSEIGNE  VenteConv  Feature\n",
       "1  No_Displ               2.0             20.20   47400.0   36.0       CORA       72.0  No_Feat\n",
       "2  No_Displ               2.0             11.90   62000.0   24.0    LECLERC       48.0  No_Feat\n",
       "3  No_Displ               8.0             29.52   60661.0   60.0     AUCHAN      480.0  No_Feat\n",
       "4  No_Displ               2.0             16.20   59677.0   19.0  CARREFOUR       38.0  No_Feat\n",
       "5  No_Displ               5.0             62.10  142602.0   50.0       CORA      250.0  No_Feat"
      ]
     },
     "execution_count": 125,
     "metadata": {},
     "output_type": "execute_result"
    }
   ],
   "source": [
    "dataset.head()"
   ]
  },
  {
   "cell_type": "markdown",
   "metadata": {
    "_cell_guid": "df6a4523-b385-69ee-c933-592826d81431"
   },
   "source": [
    "<a id='2'></a>\n",
    "# 3. Exploratory Data Analysis"
   ]
  },
  {
   "cell_type": "markdown",
   "metadata": {},
   "source": [
    "<a id='2.1'></a>\n",
    "## 3.1. Descriptive Statistics"
   ]
  },
  {
   "cell_type": "code",
   "execution_count": 126,
   "metadata": {
    "_cell_guid": "52f85dc2-0f91-3c50-400e-ddc38bea966b"
   },
   "outputs": [
    {
     "data": {
      "text/plain": [
       "(25782, 8)"
      ]
     },
     "execution_count": 126,
     "metadata": {},
     "output_type": "execute_result"
    }
   ],
   "source": [
    "# shape\n",
    "dataset.shape"
   ]
  },
  {
   "cell_type": "code",
   "execution_count": 127,
   "metadata": {},
   "outputs": [
    {
     "data": {
      "text/html": [
       "<div>\n",
       "<style scoped>\n",
       "    .dataframe tbody tr th:only-of-type {\n",
       "        vertical-align: middle;\n",
       "    }\n",
       "\n",
       "    .dataframe tbody tr th {\n",
       "        vertical-align: top;\n",
       "    }\n",
       "\n",
       "    .dataframe thead th {\n",
       "        text-align: right;\n",
       "    }\n",
       "</style>\n",
       "<table border=\"1\" class=\"dataframe\">\n",
       "  <thead>\n",
       "    <tr style=\"text-align: right;\">\n",
       "      <th></th>\n",
       "      <th>Display</th>\n",
       "      <th>cor_sales_in_vol</th>\n",
       "      <th>cor_sales_in_val</th>\n",
       "      <th>CA_mag</th>\n",
       "      <th>value</th>\n",
       "      <th>ENSEIGNE</th>\n",
       "      <th>VenteConv</th>\n",
       "      <th>Feature</th>\n",
       "    </tr>\n",
       "  </thead>\n",
       "  <tbody>\n",
       "    <tr>\n",
       "      <th>1</th>\n",
       "      <td>No_Displ</td>\n",
       "      <td>2.0</td>\n",
       "      <td>20.2</td>\n",
       "      <td>47400.0</td>\n",
       "      <td>36.0</td>\n",
       "      <td>CORA</td>\n",
       "      <td>72.0</td>\n",
       "      <td>No_Feat</td>\n",
       "    </tr>\n",
       "    <tr>\n",
       "      <th>2</th>\n",
       "      <td>No_Displ</td>\n",
       "      <td>2.0</td>\n",
       "      <td>11.9</td>\n",
       "      <td>62000.0</td>\n",
       "      <td>24.0</td>\n",
       "      <td>LECLERC</td>\n",
       "      <td>48.0</td>\n",
       "      <td>No_Feat</td>\n",
       "    </tr>\n",
       "  </tbody>\n",
       "</table>\n",
       "</div>"
      ],
      "text/plain": [
       "    Display  cor_sales_in_vol  cor_sales_in_val   CA_mag  value ENSEIGNE  VenteConv  Feature\n",
       "1  No_Displ               2.0              20.2  47400.0   36.0     CORA       72.0  No_Feat\n",
       "2  No_Displ               2.0              11.9  62000.0   24.0  LECLERC       48.0  No_Feat"
      ]
     },
     "execution_count": 127,
     "metadata": {},
     "output_type": "execute_result"
    }
   ],
   "source": [
    "# peek at data\n",
    "set_option('display.width', 100)\n",
    "dataset.head(2)"
   ]
  },
  {
   "cell_type": "code",
   "execution_count": 128,
   "metadata": {
    "_cell_guid": "f36dd804-0c16-f0c9-05c9-d22b85a79e75"
   },
   "outputs": [
    {
     "data": {
      "text/plain": [
       "Display              object\n",
       "cor_sales_in_vol    float64\n",
       "cor_sales_in_val    float64\n",
       "CA_mag              float64\n",
       "value               float64\n",
       "ENSEIGNE             object\n",
       "VenteConv           float64\n",
       "Feature              object\n",
       "dtype: object"
      ]
     },
     "execution_count": 128,
     "metadata": {},
     "output_type": "execute_result"
    }
   ],
   "source": [
    "# types\n",
    "set_option('display.max_rows', 500)\n",
    "dataset.dtypes"
   ]
  },
  {
   "cell_type": "code",
   "execution_count": 129,
   "metadata": {},
   "outputs": [
    {
     "data": {
      "text/html": [
       "<div>\n",
       "<style scoped>\n",
       "    .dataframe tbody tr th:only-of-type {\n",
       "        vertical-align: middle;\n",
       "    }\n",
       "\n",
       "    .dataframe tbody tr th {\n",
       "        vertical-align: top;\n",
       "    }\n",
       "\n",
       "    .dataframe thead th {\n",
       "        text-align: right;\n",
       "    }\n",
       "</style>\n",
       "<table border=\"1\" class=\"dataframe\">\n",
       "  <thead>\n",
       "    <tr style=\"text-align: right;\">\n",
       "      <th></th>\n",
       "      <th>cor_sales_in_vol</th>\n",
       "      <th>cor_sales_in_val</th>\n",
       "      <th>CA_mag</th>\n",
       "      <th>value</th>\n",
       "      <th>VenteConv</th>\n",
       "    </tr>\n",
       "  </thead>\n",
       "  <tbody>\n",
       "    <tr>\n",
       "      <th>count</th>\n",
       "      <td>25782.000000</td>\n",
       "      <td>25782.000000</td>\n",
       "      <td>25782.000000</td>\n",
       "      <td>25782.000000</td>\n",
       "      <td>25782.000000</td>\n",
       "    </tr>\n",
       "    <tr>\n",
       "      <th>mean</th>\n",
       "      <td>13.767151</td>\n",
       "      <td>130.888312</td>\n",
       "      <td>64641.184431</td>\n",
       "      <td>37.646614</td>\n",
       "      <td>587.855260</td>\n",
       "    </tr>\n",
       "    <tr>\n",
       "      <th>std</th>\n",
       "      <td>38.203406</td>\n",
       "      <td>372.649805</td>\n",
       "      <td>54924.645702</td>\n",
       "      <td>23.498949</td>\n",
       "      <td>1821.338396</td>\n",
       "    </tr>\n",
       "    <tr>\n",
       "      <th>min</th>\n",
       "      <td>1.000000</td>\n",
       "      <td>1.110000</td>\n",
       "      <td>1693.000000</td>\n",
       "      <td>1.000000</td>\n",
       "      <td>1.000000</td>\n",
       "    </tr>\n",
       "    <tr>\n",
       "      <th>25%</th>\n",
       "      <td>2.000000</td>\n",
       "      <td>13.360000</td>\n",
       "      <td>21394.000000</td>\n",
       "      <td>25.000000</td>\n",
       "      <td>50.000000</td>\n",
       "    </tr>\n",
       "    <tr>\n",
       "      <th>50%</th>\n",
       "      <td>4.000000</td>\n",
       "      <td>31.050000</td>\n",
       "      <td>51522.000000</td>\n",
       "      <td>32.000000</td>\n",
       "      <td>120.000000</td>\n",
       "    </tr>\n",
       "    <tr>\n",
       "      <th>75%</th>\n",
       "      <td>11.000000</td>\n",
       "      <td>87.450000</td>\n",
       "      <td>91000.000000</td>\n",
       "      <td>40.000000</td>\n",
       "      <td>380.000000</td>\n",
       "    </tr>\n",
       "    <tr>\n",
       "      <th>max</th>\n",
       "      <td>1475.000000</td>\n",
       "      <td>13589.220000</td>\n",
       "      <td>284844.000000</td>\n",
       "      <td>198.000000</td>\n",
       "      <td>48816.000000</td>\n",
       "    </tr>\n",
       "  </tbody>\n",
       "</table>\n",
       "</div>"
      ],
      "text/plain": [
       "       cor_sales_in_vol  cor_sales_in_val         CA_mag         value     VenteConv\n",
       "count      25782.000000      25782.000000   25782.000000  25782.000000  25782.000000\n",
       "mean          13.767151        130.888312   64641.184431     37.646614    587.855260\n",
       "std           38.203406        372.649805   54924.645702     23.498949   1821.338396\n",
       "min            1.000000          1.110000    1693.000000      1.000000      1.000000\n",
       "25%            2.000000         13.360000   21394.000000     25.000000     50.000000\n",
       "50%            4.000000         31.050000   51522.000000     32.000000    120.000000\n",
       "75%           11.000000         87.450000   91000.000000     40.000000    380.000000\n",
       "max         1475.000000      13589.220000  284844.000000    198.000000  48816.000000"
      ]
     },
     "execution_count": 129,
     "metadata": {},
     "output_type": "execute_result"
    }
   ],
   "source": [
    "dataset.describe()"
   ]
  },
  {
   "cell_type": "code",
   "execution_count": 130,
   "metadata": {
    "_cell_guid": "565b36d1-0abc-e91c-47f5-c3153d54e265"
   },
   "outputs": [
    {
     "data": {
      "text/plain": [
       "Display\n",
       "Displ       12782\n",
       "No_Displ    13000\n",
       "dtype: int64"
      ]
     },
     "execution_count": 130,
     "metadata": {},
     "output_type": "execute_result"
    }
   ],
   "source": [
    "# class distribution\n",
    "dataset.groupby('Display').size()"
   ]
  },
  {
   "cell_type": "code",
   "execution_count": 131,
   "metadata": {},
   "outputs": [
    {
     "data": {
      "text/plain": [
       "ENSEIGNE\n",
       "AUCHAN              3003\n",
       "CARREFOUR           4629\n",
       "CARREFOUR MARKET    1500\n",
       "CASINO              3370\n",
       "CORA                1883\n",
       "ECOMARCHE             69\n",
       "FRANPRIX              48\n",
       "GEANT                761\n",
       "HYPER U               71\n",
       "INTERMARCHE         2701\n",
       "LECLERC             4257\n",
       "MARCHE U             153\n",
       "MATCH                241\n",
       "MONOPRIX             732\n",
       "OTHERS                60\n",
       "PRISUNIC              99\n",
       "SHOPI                 27\n",
       "SIMPLY MARKET        913\n",
       "SUPER U             1265\n",
       "dtype: int64"
      ]
     },
     "execution_count": 131,
     "metadata": {},
     "output_type": "execute_result"
    }
   ],
   "source": [
    "dataset.groupby('ENSEIGNE').size()"
   ]
  },
  {
   "cell_type": "code",
   "execution_count": 132,
   "metadata": {},
   "outputs": [
    {
     "data": {
      "text/plain": [
       "Feature\n",
       "Feat        6287\n",
       "No_Feat    19495\n",
       "dtype: int64"
      ]
     },
     "execution_count": 132,
     "metadata": {},
     "output_type": "execute_result"
    }
   ],
   "source": [
    "dataset.groupby('Feature').size()"
   ]
  },
  {
   "cell_type": "markdown",
   "metadata": {},
   "source": [
    "<a id='2.2'></a>\n",
    "## 3.2. Data Visualization"
   ]
  },
  {
   "cell_type": "code",
   "execution_count": 133,
   "metadata": {
    "_cell_guid": "16d50177-f93e-9d26-af7a-313d7ebe9fcf"
   },
   "outputs": [
    {
     "data": {
      "image/png": "[encoded data removed]",
      "text/plain": [
       "<Figure size 864x864 with 6 Axes>"
      ]
     },
     "metadata": {
      "needs_background": "light"
     },
     "output_type": "display_data"
    }
   ],
   "source": [
    "# histograms\n",
    "dataset.hist(sharex=False, sharey=False, xlabelsize=1, ylabelsize=1, figsize=(12,12))\n",
    "pyplot.show()"
   ]
  },
  {
   "cell_type": "code",
   "execution_count": 134,
   "metadata": {
    "_cell_guid": "ca420570-fce1-e2ff-8511-50691e099d69"
   },
   "outputs": [
    {
     "data": {
      "image/png": "[encoded data removed]",
      "text/plain": [
       "<Figure size 1080x1080 with 9 Axes>"
      ]
     },
     "metadata": {
      "needs_background": "light"
     },
     "output_type": "display_data"
    }
   ],
   "source": [
    "# density\n",
    "dataset.plot(kind='density', subplots=True, layout=(3,3), sharex=False, legend=True, fontsize=1, figsize=(15,15))\n",
    "pyplot.show()"
   ]
  },
  {
   "cell_type": "code",
   "execution_count": 135,
   "metadata": {},
   "outputs": [
    {
     "data": {
      "image/png": "[encoded data removed]",
      "text/plain": [
       "<Figure size 1080x1080 with 6 Axes>"
      ]
     },
     "metadata": {
      "needs_background": "light"
     },
     "output_type": "display_data"
    }
   ],
   "source": [
    "#Box and Whisker Plots\n",
    "dataset.plot(kind='box', subplots=True, layout=(3,2), sharex=False, sharey=False, figsize=(15,15))\n",
    "pyplot.show()"
   ]
  },
  {
   "cell_type": "code",
   "execution_count": 136,
   "metadata": {},
   "outputs": [
    {
     "data": {
      "text/plain": [
       "<AxesSubplot:title={'center':'Correlation Matrix'}>"
      ]
     },
     "execution_count": 136,
     "metadata": {},
     "output_type": "execute_result"
    },
    {
     "data": {
      "image/png": "[encoded data removed]",
      "text/plain": [
       "<Figure size 1080x1080 with 2 Axes>"
      ]
     },
     "metadata": {
      "needs_background": "light"
     },
     "output_type": "display_data"
    }
   ],
   "source": [
    "# correlation\n",
    "correlation = dataset.corr(method=\"spearman\")\n",
    "pyplot.figure(figsize=(15,15))\n",
    "pyplot.title('Correlation Matrix')\n",
    "sns.heatmap(correlation, vmax=1, square=True,annot=True,cmap='cubehelix')"
   ]
  },
  {
   "cell_type": "code",
   "execution_count": 138,
   "metadata": {},
   "outputs": [
    {
     "data": {
      "text/plain": [
       "<Figure size 2160x1080 with 0 Axes>"
      ]
     },
     "metadata": {},
     "output_type": "display_data"
    },
    {
     "data": {
      "image/png": "[encoded data removed]",
      "text/plain": [
       "<Figure size 864x864 with 25 Axes>"
      ]
     },
     "metadata": {
      "needs_background": "light"
     },
     "output_type": "display_data"
    }
   ],
   "source": [
    "# Scatterplot Matrix\n",
    "from pandas.plotting import scatter_matrix\n",
    "pyplot.figure(figsize=(30,15))\n",
    "scatter_matrix(dataset,figsize=(12,12))\n",
    "pyplot.show()"
   ]
  },
  {
   "cell_type": "markdown",
   "metadata": {},
   "source": [
    "<a id='3'></a>\n",
    "## 4. Data Preparation"
   ]
  },
  {
   "cell_type": "markdown",
   "metadata": {},
   "source": [
    "<a id='3.1'></a>\n",
    "## 4.1. Data Cleaning\n",
    "Check for the NAs in the rows, either drop them or fill them with the mean of the column"
   ]
  },
  {
   "cell_type": "code",
   "execution_count": 95,
   "metadata": {},
   "outputs": [
    {
     "name": "stdout",
     "output_type": "stream",
     "text": [
      "Null Values = False\n"
     ]
    }
   ],
   "source": [
    "#Checking for any null values and removing the null values'''\n",
    "print('Null Values =',dataset.isnull().values.any())"
   ]
  },
  {
   "attachments": {},
   "cell_type": "markdown",
   "metadata": {},
   "source": [
    "Y'a pas de valeurs manquantes."
   ]
  },
  {
   "cell_type": "markdown",
   "metadata": {},
   "source": [
    "<a id='3.2'></a>\n",
    "## 4.2. Handling Categorical Data"
   ]
  },
  {
   "cell_type": "code",
   "execution_count": 99,
   "metadata": {},
   "outputs": [
    {
     "data": {
      "text/html": [
       "<div>\n",
       "<style scoped>\n",
       "    .dataframe tbody tr th:only-of-type {\n",
       "        vertical-align: middle;\n",
       "    }\n",
       "\n",
       "    .dataframe tbody tr th {\n",
       "        vertical-align: top;\n",
       "    }\n",
       "\n",
       "    .dataframe thead th {\n",
       "        text-align: right;\n",
       "    }\n",
       "</style>\n",
       "<table border=\"1\" class=\"dataframe\">\n",
       "  <thead>\n",
       "    <tr style=\"text-align: right;\">\n",
       "      <th></th>\n",
       "      <th>Display</th>\n",
       "      <th>Display_code</th>\n",
       "      <th>ENSEIGNE</th>\n",
       "      <th>ENSEIGNE_code</th>\n",
       "      <th>Feature_code</th>\n",
       "      <th>Feature</th>\n",
       "    </tr>\n",
       "  </thead>\n",
       "  <tbody>\n",
       "    <tr>\n",
       "      <th>20691</th>\n",
       "      <td>Displ</td>\n",
       "      <td>0</td>\n",
       "      <td>LECLERC</td>\n",
       "      <td>10</td>\n",
       "      <td>1</td>\n",
       "      <td>No_Feat</td>\n",
       "    </tr>\n",
       "    <tr>\n",
       "      <th>1272</th>\n",
       "      <td>No_Displ</td>\n",
       "      <td>1</td>\n",
       "      <td>LECLERC</td>\n",
       "      <td>10</td>\n",
       "      <td>1</td>\n",
       "      <td>No_Feat</td>\n",
       "    </tr>\n",
       "    <tr>\n",
       "      <th>10347</th>\n",
       "      <td>No_Displ</td>\n",
       "      <td>1</td>\n",
       "      <td>LECLERC</td>\n",
       "      <td>10</td>\n",
       "      <td>1</td>\n",
       "      <td>No_Feat</td>\n",
       "    </tr>\n",
       "    <tr>\n",
       "      <th>21788</th>\n",
       "      <td>Displ</td>\n",
       "      <td>0</td>\n",
       "      <td>SIMPLY MARKET</td>\n",
       "      <td>17</td>\n",
       "      <td>1</td>\n",
       "      <td>No_Feat</td>\n",
       "    </tr>\n",
       "    <tr>\n",
       "      <th>25115</th>\n",
       "      <td>Displ</td>\n",
       "      <td>0</td>\n",
       "      <td>SUPER U</td>\n",
       "      <td>18</td>\n",
       "      <td>1</td>\n",
       "      <td>No_Feat</td>\n",
       "    </tr>\n",
       "    <tr>\n",
       "      <th>8038</th>\n",
       "      <td>No_Displ</td>\n",
       "      <td>1</td>\n",
       "      <td>INTERMARCHE</td>\n",
       "      <td>9</td>\n",
       "      <td>1</td>\n",
       "      <td>No_Feat</td>\n",
       "    </tr>\n",
       "    <tr>\n",
       "      <th>25171</th>\n",
       "      <td>Displ</td>\n",
       "      <td>0</td>\n",
       "      <td>AUCHAN</td>\n",
       "      <td>0</td>\n",
       "      <td>0</td>\n",
       "      <td>Feat</td>\n",
       "    </tr>\n",
       "    <tr>\n",
       "      <th>23218</th>\n",
       "      <td>Displ</td>\n",
       "      <td>0</td>\n",
       "      <td>CARREFOUR</td>\n",
       "      <td>1</td>\n",
       "      <td>0</td>\n",
       "      <td>Feat</td>\n",
       "    </tr>\n",
       "    <tr>\n",
       "      <th>1802</th>\n",
       "      <td>No_Displ</td>\n",
       "      <td>1</td>\n",
       "      <td>CASINO</td>\n",
       "      <td>3</td>\n",
       "      <td>1</td>\n",
       "      <td>No_Feat</td>\n",
       "    </tr>\n",
       "    <tr>\n",
       "      <th>2483</th>\n",
       "      <td>No_Displ</td>\n",
       "      <td>1</td>\n",
       "      <td>SUPER U</td>\n",
       "      <td>18</td>\n",
       "      <td>1</td>\n",
       "      <td>No_Feat</td>\n",
       "    </tr>\n",
       "  </tbody>\n",
       "</table>\n",
       "</div>"
      ],
      "text/plain": [
       "        Display  Display_code       ENSEIGNE  ENSEIGNE_code  Feature_code  Feature\n",
       "20691     Displ             0        LECLERC             10             1  No_Feat\n",
       "1272   No_Displ             1        LECLERC             10             1  No_Feat\n",
       "10347  No_Displ             1        LECLERC             10             1  No_Feat\n",
       "21788     Displ             0  SIMPLY MARKET             17             1  No_Feat\n",
       "25115     Displ             0        SUPER U             18             1  No_Feat\n",
       "8038   No_Displ             1    INTERMARCHE              9             1  No_Feat\n",
       "25171     Displ             0         AUCHAN              0             0     Feat\n",
       "23218     Displ             0      CARREFOUR              1             0     Feat\n",
       "1802   No_Displ             1         CASINO              3             1  No_Feat\n",
       "2483   No_Displ             1        SUPER U             18             1  No_Feat"
      ]
     },
     "execution_count": 99,
     "metadata": {},
     "output_type": "execute_result"
    }
   ],
   "source": [
    "from sklearn.preprocessing import LabelEncoder\n",
    "\n",
    "lb_make = LabelEncoder()\n",
    "dataset[\"Display_code\"] = lb_make.fit_transform(dataset[\"Display\"])\n",
    "dataset[\"ENSEIGNE_code\"] = lb_make.fit_transform(dataset[\"ENSEIGNE\"])\n",
    "dataset[\"Feature_code\"] = lb_make.fit_transform(dataset[\"Feature\"])\n",
    "dataset[[\"Display\", \"Display_code\",\"ENSEIGNE\",\"ENSEIGNE_code\",\"Feature_code\",\"Feature\"]].sample(10)\n"
   ]
  },
  {
   "cell_type": "code",
   "execution_count": 100,
   "metadata": {},
   "outputs": [
    {
     "data": {
      "text/html": [
       "<div>\n",
       "<style scoped>\n",
       "    .dataframe tbody tr th:only-of-type {\n",
       "        vertical-align: middle;\n",
       "    }\n",
       "\n",
       "    .dataframe tbody tr th {\n",
       "        vertical-align: top;\n",
       "    }\n",
       "\n",
       "    .dataframe thead th {\n",
       "        text-align: right;\n",
       "    }\n",
       "</style>\n",
       "<table border=\"1\" class=\"dataframe\">\n",
       "  <thead>\n",
       "    <tr style=\"text-align: right;\">\n",
       "      <th></th>\n",
       "      <th>Display</th>\n",
       "      <th>cor_sales_in_vol</th>\n",
       "      <th>cor_sales_in_val</th>\n",
       "      <th>CA_mag</th>\n",
       "      <th>value</th>\n",
       "      <th>ENSEIGNE</th>\n",
       "      <th>VenteConv</th>\n",
       "      <th>Feature</th>\n",
       "      <th>Display_code</th>\n",
       "      <th>ENSEIGNE_code</th>\n",
       "      <th>Feature_code</th>\n",
       "    </tr>\n",
       "  </thead>\n",
       "  <tbody>\n",
       "    <tr>\n",
       "      <th>1</th>\n",
       "      <td>No_Displ</td>\n",
       "      <td>2.0</td>\n",
       "      <td>20.20</td>\n",
       "      <td>47400.0</td>\n",
       "      <td>36.0</td>\n",
       "      <td>CORA</td>\n",
       "      <td>72.0</td>\n",
       "      <td>No_Feat</td>\n",
       "      <td>1</td>\n",
       "      <td>4</td>\n",
       "      <td>1</td>\n",
       "    </tr>\n",
       "    <tr>\n",
       "      <th>2</th>\n",
       "      <td>No_Displ</td>\n",
       "      <td>2.0</td>\n",
       "      <td>11.90</td>\n",
       "      <td>62000.0</td>\n",
       "      <td>24.0</td>\n",
       "      <td>LECLERC</td>\n",
       "      <td>48.0</td>\n",
       "      <td>No_Feat</td>\n",
       "      <td>1</td>\n",
       "      <td>10</td>\n",
       "      <td>1</td>\n",
       "    </tr>\n",
       "    <tr>\n",
       "      <th>3</th>\n",
       "      <td>No_Displ</td>\n",
       "      <td>8.0</td>\n",
       "      <td>29.52</td>\n",
       "      <td>60661.0</td>\n",
       "      <td>60.0</td>\n",
       "      <td>AUCHAN</td>\n",
       "      <td>480.0</td>\n",
       "      <td>No_Feat</td>\n",
       "      <td>1</td>\n",
       "      <td>0</td>\n",
       "      <td>1</td>\n",
       "    </tr>\n",
       "    <tr>\n",
       "      <th>4</th>\n",
       "      <td>No_Displ</td>\n",
       "      <td>2.0</td>\n",
       "      <td>16.20</td>\n",
       "      <td>59677.0</td>\n",
       "      <td>19.0</td>\n",
       "      <td>CARREFOUR</td>\n",
       "      <td>38.0</td>\n",
       "      <td>No_Feat</td>\n",
       "      <td>1</td>\n",
       "      <td>1</td>\n",
       "      <td>1</td>\n",
       "    </tr>\n",
       "    <tr>\n",
       "      <th>5</th>\n",
       "      <td>No_Displ</td>\n",
       "      <td>5.0</td>\n",
       "      <td>62.10</td>\n",
       "      <td>142602.0</td>\n",
       "      <td>50.0</td>\n",
       "      <td>CORA</td>\n",
       "      <td>250.0</td>\n",
       "      <td>No_Feat</td>\n",
       "      <td>1</td>\n",
       "      <td>4</td>\n",
       "      <td>1</td>\n",
       "    </tr>\n",
       "  </tbody>\n",
       "</table>\n",
       "</div>"
      ],
      "text/plain": [
       "    Display  cor_sales_in_vol  cor_sales_in_val    CA_mag  value   ENSEIGNE  VenteConv  Feature  \\\n",
       "1  No_Displ               2.0             20.20   47400.0   36.0       CORA       72.0  No_Feat   \n",
       "2  No_Displ               2.0             11.90   62000.0   24.0    LECLERC       48.0  No_Feat   \n",
       "3  No_Displ               8.0             29.52   60661.0   60.0     AUCHAN      480.0  No_Feat   \n",
       "4  No_Displ               2.0             16.20   59677.0   19.0  CARREFOUR       38.0  No_Feat   \n",
       "5  No_Displ               5.0             62.10  142602.0   50.0       CORA      250.0  No_Feat   \n",
       "\n",
       "   Display_code  ENSEIGNE_code  Feature_code  \n",
       "1             1              4             1  \n",
       "2             1             10             1  \n",
       "3             1              0             1  \n",
       "4             1              1             1  \n",
       "5             1              4             1  "
      ]
     },
     "execution_count": 100,
     "metadata": {},
     "output_type": "execute_result"
    }
   ],
   "source": [
    "dataset.head(5)"
   ]
  },
  {
   "attachments": {},
   "cell_type": "markdown",
   "metadata": {},
   "source": [
    "<a id='3.3'></a>\n",
    "## 4.3. Feature Selection\n",
    "Statistical tests can be used to select those features that have the strongest relationship with the output variable.The scikit-learn library provides the SelectKBest class that can be used with a suite of different statistical tests to select a specific number of features.\n",
    "The example below uses the chi-squared (chi²) statistical test for non-negative features to select 5 of the best features from the Dataset."
   ]
  },
  {
   "attachments": {},
   "cell_type": "markdown",
   "metadata": {},
   "source": [
    "https://stats.stackexchange.com/questions/253086/selectkbest-feature-selection-python-scikit-learn"
   ]
  },
  {
   "cell_type": "code",
   "execution_count": 101,
   "metadata": {},
   "outputs": [
    {
     "data": {
      "text/html": [
       "<style>#sk-container-id-1 {color: black;background-color: white;}#sk-container-id-1 pre{padding: 0;}#sk-container-id-1 div.sk-toggleable {background-color: white;}#sk-container-id-1 label.sk-toggleable__label {cursor: pointer;display: block;width: 100%;margin-bottom: 0;padding: 0.3em;box-sizing: border-box;text-align: center;}#sk-container-id-1 label.sk-toggleable__label-arrow:before {content: \"▸\";float: left;margin-right: 0.25em;color: #696969;}#sk-container-id-1 label.sk-toggleable__label-arrow:hover:before {color: black;}#sk-container-id-1 div.sk-estimator:hover label.sk-toggleable__label-arrow:before {color: black;}#sk-container-id-1 div.sk-toggleable__content {max-height: 0;max-width: 0;overflow: hidden;text-align: left;background-color: #f0f8ff;}#sk-container-id-1 div.sk-toggleable__content pre {margin: 0.2em;color: black;border-radius: 0.25em;background-color: #f0f8ff;}#sk-container-id-1 input.sk-toggleable__control:checked~div.sk-toggleable__content {max-height: 200px;max-width: 100%;overflow: auto;}#sk-container-id-1 input.sk-toggleable__control:checked~label.sk-toggleable__label-arrow:before {content: \"▾\";}#sk-container-id-1 div.sk-estimator input.sk-toggleable__control:checked~label.sk-toggleable__label {background-color: #d4ebff;}#sk-container-id-1 div.sk-label input.sk-toggleable__control:checked~label.sk-toggleable__label {background-color: #d4ebff;}#sk-container-id-1 input.sk-hidden--visually {border: 0;clip: rect(1px 1px 1px 1px);clip: rect(1px, 1px, 1px, 1px);height: 1px;margin: -1px;overflow: hidden;padding: 0;position: absolute;width: 1px;}#sk-container-id-1 div.sk-estimator {font-family: monospace;background-color: #f0f8ff;border: 1px dotted black;border-radius: 0.25em;box-sizing: border-box;margin-bottom: 0.5em;}#sk-container-id-1 div.sk-estimator:hover {background-color: #d4ebff;}#sk-container-id-1 div.sk-parallel-item::after {content: \"\";width: 100%;border-bottom: 1px solid gray;flex-grow: 1;}#sk-container-id-1 div.sk-label:hover label.sk-toggleable__label {background-color: #d4ebff;}#sk-container-id-1 div.sk-serial::before {content: \"\";position: absolute;border-left: 1px solid gray;box-sizing: border-box;top: 0;bottom: 0;left: 50%;z-index: 0;}#sk-container-id-1 div.sk-serial {display: flex;flex-direction: column;align-items: center;background-color: white;padding-right: 0.2em;padding-left: 0.2em;position: relative;}#sk-container-id-1 div.sk-item {position: relative;z-index: 1;}#sk-container-id-1 div.sk-parallel {display: flex;align-items: stretch;justify-content: center;background-color: white;position: relative;}#sk-container-id-1 div.sk-item::before, #sk-container-id-1 div.sk-parallel-item::before {content: \"\";position: absolute;border-left: 1px solid gray;box-sizing: border-box;top: 0;bottom: 0;left: 50%;z-index: -1;}#sk-container-id-1 div.sk-parallel-item {display: flex;flex-direction: column;z-index: 1;position: relative;background-color: white;}#sk-container-id-1 div.sk-parallel-item:first-child::after {align-self: flex-end;width: 50%;}#sk-container-id-1 div.sk-parallel-item:last-child::after {align-self: flex-start;width: 50%;}#sk-container-id-1 div.sk-parallel-item:only-child::after {width: 0;}#sk-container-id-1 div.sk-dashed-wrapped {border: 1px dashed gray;margin: 0 0.4em 0.5em 0.4em;box-sizing: border-box;padding-bottom: 0.4em;background-color: white;}#sk-container-id-1 div.sk-label label {font-family: monospace;font-weight: bold;display: inline-block;line-height: 1.2em;}#sk-container-id-1 div.sk-label-container {text-align: center;}#sk-container-id-1 div.sk-container {/* jupyter's `normalize.less` sets `[hidden] { display: none; }` but bootstrap.min.css set `[hidden] { display: none !important; }` so we also need the `!important` here to be able to override the default hidden behavior on the sphinx rendered scikit-learn.org. See: https://github.com/scikit-learn/scikit-learn/issues/21755 */display: inline-block !important;position: relative;}#sk-container-id-1 div.sk-text-repr-fallback {display: none;}</style><div id=\"sk-container-id-1\" class=\"sk-top-container\"><div class=\"sk-text-repr-fallback\"><pre>SelectKBest(k=5, score_func=&lt;function chi2 at 0x0000014BC3BFBD30&gt;)</pre><b>In a Jupyter environment, please rerun this cell to show the HTML representation or trust the notebook. <br />On GitHub, the HTML representation is unable to render, please try loading this page with nbviewer.org.</b></div><div class=\"sk-container\" hidden><div class=\"sk-item\"><div class=\"sk-estimator sk-toggleable\"><input class=\"sk-toggleable__control sk-hidden--visually\" id=\"sk-estimator-id-1\" type=\"checkbox\" checked><label for=\"sk-estimator-id-1\" class=\"sk-toggleable__label sk-toggleable__label-arrow\">SelectKBest</label><div class=\"sk-toggleable__content\"><pre>SelectKBest(k=5, score_func=&lt;function chi2 at 0x0000014BC3BFBD30&gt;)</pre></div></div></div></div></div>"
      ],
      "text/plain": [
       "SelectKBest(k=5, score_func=<function chi2 at 0x0000014BC3BFBD30>)"
      ]
     },
     "execution_count": 101,
     "metadata": {},
     "output_type": "execute_result"
    }
   ],
   "source": [
    "from sklearn.feature_selection import SelectKBest\n",
    "from sklearn.feature_selection import chi2\n",
    "\n",
    "bestfeatures = SelectKBest(score_func=chi2, k=5)\n",
    "bestfeatures"
   ]
  },
  {
   "cell_type": "code",
   "execution_count": 106,
   "metadata": {},
   "outputs": [
    {
     "name": "stdout",
     "output_type": "stream",
     "text": [
      "SelectKBest(k=5, score_func=<function chi2 at 0x0000014BC3BFBD30>)\n"
     ]
    }
   ],
   "source": [
    "print(bestfeatures)"
   ]
  },
  {
   "cell_type": "code",
   "execution_count": 117,
   "metadata": {},
   "outputs": [
    {
     "name": "stdout",
     "output_type": "stream",
     "text": [
      "              Specs         Score\n",
      "4         VenteConv  7.984937e+06\n",
      "1  cor_sales_in_val  1.711456e+06\n",
      "0  cor_sales_in_vol  1.479383e+05\n",
      "2            CA_mag  1.468023e+05\n",
      "3             value  2.049502e+04\n",
      "6      Feature_code  1.603084e+03\n",
      "5     ENSEIGNE_code  3.831261e+02\n"
     ]
    }
   ],
   "source": [
    "Y= dataset[\"Display_code\"]\n",
    "\n",
    "X= dataset[dataset.columns[~dataset.columns.isin(['Display_code','Display','ENSEIGNE','Feature'])]]\n",
    "\n",
    "fit = bestfeatures.fit(X,Y)\n",
    "dfscores = pd.DataFrame(fit.scores_)\n",
    "dfcolumns = pd.DataFrame(X.columns)\n",
    "#concat two dataframes for better visualization \n",
    "featureScores = pd.concat([dfcolumns,dfscores],axis=1)\n",
    "featureScores.columns = ['Specs','Score']  #naming the dataframe columns\n",
    "print(featureScores.nlargest(10,'Score'))  #print 10 best features\n"
   ]
  },
  {
   "attachments": {},
   "cell_type": "markdown",
   "metadata": {},
   "source": [
    "As it can be seem from the numbers above VenteConv  , cor_sales_in_val  , cor_sales_in_vol  , CA_mag   are  the most important features."
   ]
  },
  {
   "cell_type": "markdown",
   "metadata": {},
   "source": [
    "<a id='3.4'></a>\n",
    "## 4.4. Data Transformation"
   ]
  },
  {
   "cell_type": "markdown",
   "metadata": {},
   "source": [
    "<a id='3.4.1'></a>\n",
    "### 4.4.1. Rescale Data\n",
    "When your data is comprised of attributes with varying scales, many machine learning algorithms\n",
    "can benefit from rescaling the attributes to all have the same scale. Often this is referred to\n",
    "as normalization and attributes are often rescaled into the range between 0 and 1."
   ]
  },
  {
   "cell_type": "code",
   "execution_count": 69,
   "metadata": {},
   "outputs": [
    {
     "data": {
      "text/html": [
       "<div>\n",
       "<style scoped>\n",
       "    .dataframe tbody tr th:only-of-type {\n",
       "        vertical-align: middle;\n",
       "    }\n",
       "\n",
       "    .dataframe tbody tr th {\n",
       "        vertical-align: top;\n",
       "    }\n",
       "\n",
       "    .dataframe thead th {\n",
       "        text-align: right;\n",
       "    }\n",
       "</style>\n",
       "<table border=\"1\" class=\"dataframe\">\n",
       "  <thead>\n",
       "    <tr style=\"text-align: right;\">\n",
       "      <th></th>\n",
       "      <th>0</th>\n",
       "      <th>1</th>\n",
       "      <th>2</th>\n",
       "      <th>3</th>\n",
       "      <th>4</th>\n",
       "      <th>5</th>\n",
       "      <th>6</th>\n",
       "      <th>7</th>\n",
       "      <th>8</th>\n",
       "    </tr>\n",
       "  </thead>\n",
       "  <tbody>\n",
       "    <tr>\n",
       "      <th>0</th>\n",
       "      <td>0.053571</td>\n",
       "      <td>0.666667</td>\n",
       "      <td>0.312707</td>\n",
       "      <td>0.636364</td>\n",
       "      <td>0.0</td>\n",
       "      <td>0.5</td>\n",
       "      <td>0.0</td>\n",
       "      <td>0.5</td>\n",
       "      <td>0.714286</td>\n",
       "    </tr>\n",
       "    <tr>\n",
       "      <th>1</th>\n",
       "      <td>0.464286</td>\n",
       "      <td>0.666667</td>\n",
       "      <td>0.419110</td>\n",
       "      <td>0.545455</td>\n",
       "      <td>1.0</td>\n",
       "      <td>0.0</td>\n",
       "      <td>0.0</td>\n",
       "      <td>0.0</td>\n",
       "      <td>0.571429</td>\n",
       "    </tr>\n",
       "    <tr>\n",
       "      <th>2</th>\n",
       "      <td>0.607143</td>\n",
       "      <td>0.666667</td>\n",
       "      <td>0.253141</td>\n",
       "      <td>0.272727</td>\n",
       "      <td>1.0</td>\n",
       "      <td>0.0</td>\n",
       "      <td>0.0</td>\n",
       "      <td>0.0</td>\n",
       "      <td>0.142857</td>\n",
       "    </tr>\n",
       "    <tr>\n",
       "      <th>3</th>\n",
       "      <td>0.285714</td>\n",
       "      <td>1.000000</td>\n",
       "      <td>0.367644</td>\n",
       "      <td>0.454545</td>\n",
       "      <td>1.0</td>\n",
       "      <td>1.0</td>\n",
       "      <td>0.0</td>\n",
       "      <td>0.5</td>\n",
       "      <td>0.142857</td>\n",
       "    </tr>\n",
       "    <tr>\n",
       "      <th>4</th>\n",
       "      <td>0.160714</td>\n",
       "      <td>1.000000</td>\n",
       "      <td>0.273198</td>\n",
       "      <td>0.363636</td>\n",
       "      <td>1.0</td>\n",
       "      <td>0.5</td>\n",
       "      <td>0.0</td>\n",
       "      <td>0.5</td>\n",
       "      <td>0.142857</td>\n",
       "    </tr>\n",
       "  </tbody>\n",
       "</table>\n",
       "</div>"
      ],
      "text/plain": [
       "          0         1         2         3    4    5    6    7         8\n",
       "0  0.053571  0.666667  0.312707  0.636364  0.0  0.5  0.0  0.5  0.714286\n",
       "1  0.464286  0.666667  0.419110  0.545455  1.0  0.0  0.0  0.0  0.571429\n",
       "2  0.607143  0.666667  0.253141  0.272727  1.0  0.0  0.0  0.0  0.142857\n",
       "3  0.285714  1.000000  0.367644  0.454545  1.0  1.0  0.0  0.5  0.142857\n",
       "4  0.160714  1.000000  0.273198  0.363636  1.0  0.5  0.0  0.5  0.142857"
      ]
     },
     "execution_count": 69,
     "metadata": {},
     "output_type": "execute_result"
    }
   ],
   "source": [
    "# from sklearn.preprocessing import MinMaxScaler\n",
    "# X =  dataset[dataset.columns[~dataset.columns.isin(['Display_code','Display','ENSEIGNE','Feature'])]]\n",
    "# scaler = MinMaxScaler(feature_range=(0, 1))\n",
    "# rescaledX = pd.DataFrame(scaler.fit_transform(X))\n",
    "# # summarize transformed data\n",
    "# rescaledX.head(5)"
   ]
  },
  {
   "cell_type": "markdown",
   "metadata": {},
   "source": [
    "<a id='3.4.2'></a>\n",
    "### 4.4.2. Standardize Data\n",
    "Standardization is a useful technique to transform attributes with a Gaussian distribution and\n",
    "differing means and standard deviations to a standard Gaussian distribution with a mean of\n",
    "0 and a standard deviation of 1."
   ]
  },
  {
   "cell_type": "code",
   "execution_count": 70,
   "metadata": {},
   "outputs": [
    {
     "data": {
      "text/html": [
       "<div>\n",
       "<style scoped>\n",
       "    .dataframe tbody tr th:only-of-type {\n",
       "        vertical-align: middle;\n",
       "    }\n",
       "\n",
       "    .dataframe tbody tr th {\n",
       "        vertical-align: top;\n",
       "    }\n",
       "\n",
       "    .dataframe thead th {\n",
       "        text-align: right;\n",
       "    }\n",
       "</style>\n",
       "<table border=\"1\" class=\"dataframe\">\n",
       "  <thead>\n",
       "    <tr style=\"text-align: right;\">\n",
       "      <th></th>\n",
       "      <th>0</th>\n",
       "      <th>1</th>\n",
       "      <th>2</th>\n",
       "      <th>3</th>\n",
       "      <th>4</th>\n",
       "      <th>5</th>\n",
       "      <th>6</th>\n",
       "      <th>7</th>\n",
       "      <th>8</th>\n",
       "    </tr>\n",
       "  </thead>\n",
       "  <tbody>\n",
       "    <tr>\n",
       "      <th>0</th>\n",
       "      <td>-1.094447</td>\n",
       "      <td>0.18254</td>\n",
       "      <td>0.913171</td>\n",
       "      <td>2.139356</td>\n",
       "      <td>-1.451600</td>\n",
       "      <td>-0.144578</td>\n",
       "      <td>-0.451116</td>\n",
       "      <td>0.557302</td>\n",
       "      <td>1.063306</td>\n",
       "    </tr>\n",
       "    <tr>\n",
       "      <th>1</th>\n",
       "      <td>0.858575</td>\n",
       "      <td>0.18254</td>\n",
       "      <td>1.573037</td>\n",
       "      <td>1.657897</td>\n",
       "      <td>0.688895</td>\n",
       "      <td>-1.899688</td>\n",
       "      <td>-0.451116</td>\n",
       "      <td>-0.957863</td>\n",
       "      <td>0.561456</td>\n",
       "    </tr>\n",
       "    <tr>\n",
       "      <th>2</th>\n",
       "      <td>1.537887</td>\n",
       "      <td>0.18254</td>\n",
       "      <td>0.543768</td>\n",
       "      <td>0.213521</td>\n",
       "      <td>0.688895</td>\n",
       "      <td>-1.899688</td>\n",
       "      <td>-0.451116</td>\n",
       "      <td>-0.957863</td>\n",
       "      <td>-0.944093</td>\n",
       "    </tr>\n",
       "    <tr>\n",
       "      <th>3</th>\n",
       "      <td>0.009435</td>\n",
       "      <td>1.64848</td>\n",
       "      <td>1.253868</td>\n",
       "      <td>1.176438</td>\n",
       "      <td>0.688895</td>\n",
       "      <td>1.610532</td>\n",
       "      <td>-0.451116</td>\n",
       "      <td>0.557302</td>\n",
       "      <td>-0.944093</td>\n",
       "    </tr>\n",
       "    <tr>\n",
       "      <th>4</th>\n",
       "      <td>-0.584963</td>\n",
       "      <td>1.64848</td>\n",
       "      <td>0.668155</td>\n",
       "      <td>0.694979</td>\n",
       "      <td>0.688895</td>\n",
       "      <td>-0.144578</td>\n",
       "      <td>-0.451116</td>\n",
       "      <td>0.557302</td>\n",
       "      <td>-0.944093</td>\n",
       "    </tr>\n",
       "  </tbody>\n",
       "</table>\n",
       "</div>"
      ],
      "text/plain": [
       "          0        1         2         3         4         5         6         7         8\n",
       "0 -1.094447  0.18254  0.913171  2.139356 -1.451600 -0.144578 -0.451116  0.557302  1.063306\n",
       "1  0.858575  0.18254  1.573037  1.657897  0.688895 -1.899688 -0.451116 -0.957863  0.561456\n",
       "2  1.537887  0.18254  0.543768  0.213521  0.688895 -1.899688 -0.451116 -0.957863 -0.944093\n",
       "3  0.009435  1.64848  1.253868  1.176438  0.688895  1.610532 -0.451116  0.557302 -0.944093\n",
       "4 -0.584963  1.64848  0.668155  0.694979  0.688895 -0.144578 -0.451116  0.557302 -0.944093"
      ]
     },
     "execution_count": 70,
     "metadata": {},
     "output_type": "execute_result"
    }
   ],
   "source": [
    "# from sklearn.preprocessing import StandardScaler\n",
    "# X =  dataset[dataset.columns[~dataset.columns.isin(['Display_code','Display','ENSEIGNE','Feature'])]]\n",
    "# scaler = StandardScaler().fit(X)\n",
    "# StandardisedX = pd.DataFrame(scaler.fit_transform(X))\n",
    "# # summarize transformed data\n",
    "# StandardisedX.head(5)"
   ]
  },
  {
   "attachments": {},
   "cell_type": "markdown",
   "metadata": {},
   "source": [
    "<a id='3.4.3'></a>\n",
    "### 4.4.1. Normalize Data"
   ]
  },
  {
   "attachments": {},
   "cell_type": "markdown",
   "metadata": {},
   "source": [
    "Normalizing in scikit-learn refers to rescaling each observation (row) to have a length of 1 (called\n",
    "a unit norm or a vector with the length of 1 in linear algebra)."
   ]
  },
  {
   "cell_type": "code",
   "execution_count": 71,
   "metadata": {},
   "outputs": [
    {
     "data": {
      "text/html": [
       "<div>\n",
       "<style scoped>\n",
       "    .dataframe tbody tr th:only-of-type {\n",
       "        vertical-align: middle;\n",
       "    }\n",
       "\n",
       "    .dataframe tbody tr th {\n",
       "        vertical-align: top;\n",
       "    }\n",
       "\n",
       "    .dataframe thead th {\n",
       "        text-align: right;\n",
       "    }\n",
       "</style>\n",
       "<table border=\"1\" class=\"dataframe\">\n",
       "  <thead>\n",
       "    <tr style=\"text-align: right;\">\n",
       "      <th></th>\n",
       "      <th>0</th>\n",
       "      <th>1</th>\n",
       "      <th>2</th>\n",
       "      <th>3</th>\n",
       "      <th>4</th>\n",
       "      <th>5</th>\n",
       "      <th>6</th>\n",
       "      <th>7</th>\n",
       "      <th>8</th>\n",
       "    </tr>\n",
       "  </thead>\n",
       "  <tbody>\n",
       "    <tr>\n",
       "      <th>0</th>\n",
       "      <td>0.003697</td>\n",
       "      <td>0.000336</td>\n",
       "      <td>0.999960</td>\n",
       "      <td>0.008066</td>\n",
       "      <td>0.000000</td>\n",
       "      <td>0.000168</td>\n",
       "      <td>0.0</td>\n",
       "      <td>0.000168</td>\n",
       "      <td>0.000840</td>\n",
       "    </tr>\n",
       "    <tr>\n",
       "      <th>1</th>\n",
       "      <td>0.005709</td>\n",
       "      <td>0.000254</td>\n",
       "      <td>0.999969</td>\n",
       "      <td>0.005328</td>\n",
       "      <td>0.000127</td>\n",
       "      <td>0.000000</td>\n",
       "      <td>0.0</td>\n",
       "      <td>0.000000</td>\n",
       "      <td>0.000507</td>\n",
       "    </tr>\n",
       "    <tr>\n",
       "      <th>2</th>\n",
       "      <td>0.010882</td>\n",
       "      <td>0.000411</td>\n",
       "      <td>0.999929</td>\n",
       "      <td>0.004928</td>\n",
       "      <td>0.000205</td>\n",
       "      <td>0.000000</td>\n",
       "      <td>0.0</td>\n",
       "      <td>0.000000</td>\n",
       "      <td>0.000205</td>\n",
       "    </tr>\n",
       "    <tr>\n",
       "      <th>3</th>\n",
       "      <td>0.005037</td>\n",
       "      <td>0.000432</td>\n",
       "      <td>0.999974</td>\n",
       "      <td>0.005181</td>\n",
       "      <td>0.000144</td>\n",
       "      <td>0.000288</td>\n",
       "      <td>0.0</td>\n",
       "      <td>0.000144</td>\n",
       "      <td>0.000144</td>\n",
       "    </tr>\n",
       "    <tr>\n",
       "      <th>4</th>\n",
       "      <td>0.005349</td>\n",
       "      <td>0.000573</td>\n",
       "      <td>0.999969</td>\n",
       "      <td>0.005732</td>\n",
       "      <td>0.000191</td>\n",
       "      <td>0.000191</td>\n",
       "      <td>0.0</td>\n",
       "      <td>0.000191</td>\n",
       "      <td>0.000191</td>\n",
       "    </tr>\n",
       "  </tbody>\n",
       "</table>\n",
       "</div>"
      ],
      "text/plain": [
       "          0         1         2         3         4         5    6         7         8\n",
       "0  0.003697  0.000336  0.999960  0.008066  0.000000  0.000168  0.0  0.000168  0.000840\n",
       "1  0.005709  0.000254  0.999969  0.005328  0.000127  0.000000  0.0  0.000000  0.000507\n",
       "2  0.010882  0.000411  0.999929  0.004928  0.000205  0.000000  0.0  0.000000  0.000205\n",
       "3  0.005037  0.000432  0.999974  0.005181  0.000144  0.000288  0.0  0.000144  0.000144\n",
       "4  0.005349  0.000573  0.999969  0.005732  0.000191  0.000191  0.0  0.000191  0.000191"
      ]
     },
     "execution_count": 71,
     "metadata": {},
     "output_type": "execute_result"
    }
   ],
   "source": [
    "# from sklearn.preprocessing import Normalizer\n",
    "# X =  dataset[dataset.columns[~dataset.columns.isin(['Display_code','Display','ENSEIGNE','Feature'])]]\n",
    "# scaler = Normalizer().fit(X)\n",
    "# NormalizedX = pd.DataFrame(scaler.fit_transform(X))\n",
    "# # summarize transformed data\n",
    "# NormalizedX.head(5)"
   ]
  },
  {
   "cell_type": "markdown",
   "metadata": {},
   "source": [
    "<a id='4'></a>\n",
    "# 5. Evaluate Algorithms and Models"
   ]
  },
  {
   "cell_type": "markdown",
   "metadata": {},
   "source": [
    "<a id='4.1'></a>\n",
    "## 5.1. Train Test Split"
   ]
  },
  {
   "cell_type": "code",
   "execution_count": 72,
   "metadata": {},
   "outputs": [],
   "source": [
    "# split out validation dataset for the end\n",
    "Y= dataset[\"Display_code\"]\n",
    "X =  dataset[dataset.columns[~dataset.columns.isin(['Display_code','Display','ENSEIGNE','Feature'])]]\n",
    "scaler = StandardScaler().fit(X)\n",
    "StandardisedX = pd.DataFrame(scaler.fit_transform(X))\n",
    "validation_size = 0.2\n",
    "seed = 7\n",
    "X_train, X_validation, Y_train, Y_validation = train_test_split(X, Y, test_size=validation_size, random_state=seed)"
   ]
  },
  {
   "attachments": {},
   "cell_type": "markdown",
   "metadata": {},
   "source": [
    "<a id='4.2'></a>\n",
    "## 5.2. Test Options and Evaluation Metrics"
   ]
  },
  {
   "cell_type": "code",
   "execution_count": 73,
   "metadata": {
    "_cell_guid": "5702bc31-06bf-8b6a-42de-366a6b3311a8"
   },
   "outputs": [],
   "source": [
    "# test options for classification\n",
    "num_folds = 10\n",
    "seed = 7\n",
    "scoring = 'accuracy'\n",
    "#scoring ='neg_log_loss'\n",
    "#scoring = 'roc_auc'"
   ]
  },
  {
   "cell_type": "markdown",
   "metadata": {},
   "source": [
    "<a id='4.3'></a>\n",
    "## 5.3. Compare Models and Algorithms"
   ]
  },
  {
   "cell_type": "markdown",
   "metadata": {},
   "source": [
    "<a id='4.3.1'></a>\n",
    "### 5.3.1. Common Models"
   ]
  },
  {
   "cell_type": "code",
   "execution_count": 111,
   "metadata": {
    "_cell_guid": "772802f7-f4e4-84ee-6377-6464ab2e5da4"
   },
   "outputs": [],
   "source": [
    "# spot check the algorithms\n",
    "models = []\n",
    "models.append(('LR', LogisticRegression()))\n",
    "models.append(('LDA', LinearDiscriminantAnalysis()))\n",
    "models.append(('KNN', KNeighborsClassifier()))\n",
    "models.append(('CART', DecisionTreeClassifier()))\n",
    "models.append(('NB', GaussianNB()))\n",
    "models.append(('SVM', SVC()))\n",
    "#Neural Network\n",
    "models.append(('NN', MLPClassifier()))"
   ]
  },
  {
   "cell_type": "markdown",
   "metadata": {},
   "source": [
    "<a id='4.3.2'></a>\n",
    "### 5.3.2. Ensemble Models"
   ]
  },
  {
   "cell_type": "code",
   "execution_count": 112,
   "metadata": {},
   "outputs": [],
   "source": [
    "#Ensable Models \n",
    "# Boosting methods\n",
    "models.append(('AB', AdaBoostClassifier()))\n",
    "models.append(('GBM', GradientBoostingClassifier()))\n",
    "# Bagging methods\n",
    "models.append(('RF', RandomForestClassifier()))\n",
    "models.append(('ET', ExtraTreesClassifier()))"
   ]
  },
  {
   "cell_type": "markdown",
   "metadata": {},
   "source": [
    "<a id='4.3.3'></a>\n",
    "### 5.3.3. Deep Learning Model"
   ]
  },
  {
   "cell_type": "code",
   "execution_count": 113,
   "metadata": {},
   "outputs": [],
   "source": [
    "#Writing the Deep Learning Classifier in case the Deep Learning Flag is Set to True\n",
    "#Set the following Flag to 0 if the Deep LEarning Models Flag has to be enabled\n",
    "EnableDLModelsFlag = 1\n",
    "if EnableDLModelsFlag == 1 :   \n",
    "    # Function to create model, required for KerasClassifier\n",
    "    def create_model(neurons=12, activation='relu', learn_rate = 0.01, momentum=0):\n",
    "        # create model\n",
    "        model = Sequential()\n",
    "        model.add(Dense(neurons, input_dim=X_train.shape[1], activation=activation))\n",
    "        model.add(Dense(2, activation=activation))\n",
    "        model.add(Dense(1, activation='sigmoid'))\n",
    "        # Compile model\n",
    "        optimizer = SGD(lr=learn_rate, momentum=momentum)\n",
    "        model.compile(loss='binary_crossentropy', optimizer='adam', metrics=['accuracy'])\n",
    "        return model    \n",
    "    models.append(('DNN', KerasClassifier(build_fn=create_model, epochs=10, batch_size=10)))"
   ]
  },
  {
   "cell_type": "markdown",
   "metadata": {},
   "source": [
    "### K-folds cross validation"
   ]
  },
  {
   "cell_type": "code",
   "execution_count": 114,
   "metadata": {},
   "outputs": [
    {
     "data": {
      "text/plain": [
       "[('LR', LogisticRegression()),\n",
       " ('LDA', LinearDiscriminantAnalysis()),\n",
       " ('KNN', KNeighborsClassifier()),\n",
       " ('CART', DecisionTreeClassifier()),\n",
       " ('NB', GaussianNB()),\n",
       " ('SVM', SVC()),\n",
       " ('NN', MLPClassifier()),\n",
       " ('AB', AdaBoostClassifier()),\n",
       " ('GBM', GradientBoostingClassifier()),\n",
       " ('RF', RandomForestClassifier()),\n",
       " ('ET', ExtraTreesClassifier()),\n",
       " ('DNN', <keras.wrappers.scikit_learn.KerasClassifier at 0x264c3ff75e0>)]"
      ]
     },
     "execution_count": 114,
     "metadata": {},
     "output_type": "execute_result"
    }
   ],
   "source": [
    "models"
   ]
  },
  {
   "cell_type": "code",
   "execution_count": 116,
   "metadata": {
    "_cell_guid": "a784ab4a-eb59-98cc-76cf-b55f382d057a"
   },
   "outputs": [
    {
     "name": "stdout",
     "output_type": "stream",
     "text": [
      "Epoch 1/10\n",
      "38/38 [==============================] - 2s 7ms/step - loss: 0.6926 - accuracy: 0.5680\n",
      "Epoch 2/10\n",
      "38/38 [==============================] - 0s 8ms/step - loss: 0.6915 - accuracy: 0.5733\n",
      "Epoch 3/10\n",
      "38/38 [==============================] - 0s 6ms/step - loss: 0.6906 - accuracy: 0.5733\n",
      "Epoch 4/10\n",
      "38/38 [==============================] - 0s 7ms/step - loss: 0.6897 - accuracy: 0.5733\n",
      "Epoch 5/10\n",
      "38/38 [==============================] - 0s 8ms/step - loss: 0.6887 - accuracy: 0.5733\n",
      "Epoch 6/10\n",
      "38/38 [==============================] - 0s 5ms/step - loss: 0.6881 - accuracy: 0.5733\n",
      "Epoch 7/10\n",
      "38/38 [==============================] - 0s 6ms/step - loss: 0.6874 - accuracy: 0.5733\n",
      "Epoch 8/10\n",
      "38/38 [==============================] - 0s 6ms/step - loss: 0.6869 - accuracy: 0.5733\n",
      "Epoch 9/10\n",
      "38/38 [==============================] - 0s 4ms/step - loss: 0.6863 - accuracy: 0.5733\n",
      "Epoch 10/10\n",
      "38/38 [==============================] - 0s 6ms/step - loss: 0.6859 - accuracy: 0.5733\n",
      "Epoch 1/10\n",
      "38/38 [==============================] - 3s 5ms/step - loss: 32.7170 - accuracy: 0.5600\n",
      "Epoch 2/10\n",
      "38/38 [==============================] - 0s 4ms/step - loss: 2.0252 - accuracy: 0.5253\n",
      "Epoch 3/10\n",
      "38/38 [==============================] - 0s 5ms/step - loss: 0.6923 - accuracy: 0.4533\n",
      "Epoch 4/10\n",
      "38/38 [==============================] - 0s 5ms/step - loss: 0.6918 - accuracy: 0.4533\n",
      "Epoch 5/10\n",
      "38/38 [==============================] - 0s 6ms/step - loss: 0.6911 - accuracy: 0.4533\n",
      "Epoch 6/10\n",
      "38/38 [==============================] - 0s 5ms/step - loss: 0.6904 - accuracy: 0.4533\n",
      "Epoch 7/10\n",
      "38/38 [==============================] - 0s 5ms/step - loss: 0.6898 - accuracy: 0.4507\n",
      "Epoch 8/10\n",
      "38/38 [==============================] - 0s 4ms/step - loss: 0.6892 - accuracy: 0.4507\n",
      "Epoch 9/10\n",
      "38/38 [==============================] - 0s 8ms/step - loss: 0.6887 - accuracy: 0.5600\n",
      "Epoch 10/10\n",
      "38/38 [==============================] - 0s 6ms/step - loss: 0.6881 - accuracy: 0.5600\n",
      "Epoch 1/10\n",
      "38/38 [==============================] - 2s 6ms/step - loss: 23.7050 - accuracy: 0.4213\n",
      "Epoch 2/10\n",
      "38/38 [==============================] - 0s 5ms/step - loss: 0.7953 - accuracy: 0.5573\n",
      "Epoch 3/10\n",
      "38/38 [==============================] - 0s 7ms/step - loss: 0.6891 - accuracy: 0.5813\n",
      "Epoch 4/10\n",
      "38/38 [==============================] - 0s 8ms/step - loss: 0.6887 - accuracy: 0.5813\n",
      "Epoch 5/10\n",
      "38/38 [==============================] - 0s 8ms/step - loss: 0.6882 - accuracy: 0.5813\n",
      "Epoch 6/10\n",
      "38/38 [==============================] - 0s 5ms/step - loss: 0.6876 - accuracy: 0.5813\n",
      "Epoch 7/10\n",
      "38/38 [==============================] - 0s 6ms/step - loss: 0.6871 - accuracy: 0.5813\n",
      "Epoch 8/10\n",
      "38/38 [==============================] - 0s 6ms/step - loss: 0.6866 - accuracy: 0.5813\n",
      "Epoch 9/10\n",
      "38/38 [==============================] - 0s 6ms/step - loss: 0.6862 - accuracy: 0.5813\n",
      "Epoch 10/10\n",
      "38/38 [==============================] - 0s 5ms/step - loss: 0.6857 - accuracy: 0.5813\n",
      "Epoch 1/10\n",
      "38/38 [==============================] - 2s 5ms/step - loss: 18.7271 - accuracy: 0.5147\n",
      "Epoch 2/10\n",
      "38/38 [==============================] - 0s 5ms/step - loss: 0.6910 - accuracy: 0.5707\n",
      "Epoch 3/10\n",
      "38/38 [==============================] - 0s 5ms/step - loss: 0.6905 - accuracy: 0.5707: 0s - loss: 0.6904 - accuracy: 0.\n",
      "Epoch 4/10\n",
      "38/38 [==============================] - 0s 4ms/step - loss: 0.6901 - accuracy: 0.5707\n",
      "Epoch 5/10\n",
      "38/38 [==============================] - 0s 5ms/step - loss: 0.6896 - accuracy: 0.5707\n",
      "Epoch 6/10\n",
      "38/38 [==============================] - ETA: 0s - loss: 0.6882 - accuracy: 0.58 - 0s 5ms/step - loss: 0.6891 - accuracy: 0.5707\n",
      "Epoch 7/10\n",
      "38/38 [==============================] - 0s 5ms/step - loss: 0.6886 - accuracy: 0.5707\n",
      "Epoch 8/10\n",
      "38/38 [==============================] - 0s 5ms/step - loss: 0.6882 - accuracy: 0.5707\n",
      "Epoch 9/10\n",
      "38/38 [==============================] - 0s 5ms/step - loss: 0.6879 - accuracy: 0.5707\n",
      "Epoch 10/10\n",
      "38/38 [==============================] - 0s 7ms/step - loss: 0.6873 - accuracy: 0.5707\n",
      "Epoch 1/10\n",
      "38/38 [==============================] - 2s 5ms/step - loss: 0.6925 - accuracy: 0.5627\n",
      "Epoch 2/10\n",
      "38/38 [==============================] - 0s 5ms/step - loss: 0.6913 - accuracy: 0.5733\n",
      "Epoch 3/10\n",
      "38/38 [==============================] - 0s 6ms/step - loss: 0.6903 - accuracy: 0.5733\n",
      "Epoch 4/10\n",
      "38/38 [==============================] - 0s 7ms/step - loss: 0.6895 - accuracy: 0.5733\n",
      "Epoch 5/10\n",
      "38/38 [==============================] - 0s 6ms/step - loss: 0.6887 - accuracy: 0.5733\n",
      "Epoch 6/10\n",
      "38/38 [==============================] - 0s 6ms/step - loss: 0.6880 - accuracy: 0.5733\n",
      "Epoch 7/10\n",
      "38/38 [==============================] - 0s 5ms/step - loss: 0.6874 - accuracy: 0.5733\n",
      "Epoch 8/10\n",
      "38/38 [==============================] - 0s 6ms/step - loss: 0.6869 - accuracy: 0.5733\n",
      "Epoch 9/10\n",
      "38/38 [==============================] - 0s 4ms/step - loss: 0.6864 - accuracy: 0.5733\n",
      "Epoch 10/10\n",
      "38/38 [==============================] - 0s 5ms/step - loss: 0.6859 - accuracy: 0.5733\n",
      "Epoch 1/10\n",
      "38/38 [==============================] - 1s 4ms/step - loss: 914.7563 - accuracy: 0.5707\n",
      "Epoch 2/10\n",
      "38/38 [==============================] - 0s 4ms/step - loss: 683.8110 - accuracy: 0.5707\n",
      "Epoch 3/10\n",
      "38/38 [==============================] - 0s 6ms/step - loss: 489.5639 - accuracy: 0.5707\n",
      "Epoch 4/10\n",
      "38/38 [==============================] - 0s 6ms/step - loss: 331.5922 - accuracy: 0.5707\n",
      "Epoch 5/10\n",
      "38/38 [==============================] - 0s 6ms/step - loss: 196.3321 - accuracy: 0.5707\n",
      "Epoch 6/10\n",
      "38/38 [==============================] - 0s 4ms/step - loss: 77.9713 - accuracy: 0.5707\n",
      "Epoch 7/10\n",
      "38/38 [==============================] - 0s 6ms/step - loss: 2.2400 - accuracy: 0.4667\n",
      "Epoch 8/10\n",
      "38/38 [==============================] - 0s 7ms/step - loss: 0.7147 - accuracy: 0.4293\n",
      "Epoch 9/10\n",
      "38/38 [==============================] - 0s 5ms/step - loss: 0.7132 - accuracy: 0.4293\n",
      "Epoch 10/10\n",
      "38/38 [==============================] - 0s 4ms/step - loss: 0.7118 - accuracy: 0.4293\n",
      "Epoch 1/10\n",
      "38/38 [==============================] - 2s 4ms/step - loss: 69.7517 - accuracy: 0.4533\n",
      "Epoch 2/10\n",
      "38/38 [==============================] - 0s 5ms/step - loss: 0.6909 - accuracy: 0.5680\n",
      "Epoch 3/10\n",
      "38/38 [==============================] - 0s 5ms/step - loss: 0.6905 - accuracy: 0.5680\n",
      "Epoch 4/10\n",
      "38/38 [==============================] - 0s 7ms/step - loss: 0.6902 - accuracy: 0.5680: 0s - loss: 0.6901 - accuracy: 0.57\n",
      "Epoch 5/10\n",
      "38/38 [==============================] - 0s 7ms/step - loss: 0.6899 - accuracy: 0.5680\n",
      "Epoch 6/10\n",
      "38/38 [==============================] - 0s 5ms/step - loss: 0.6894 - accuracy: 0.5680\n",
      "Epoch 7/10\n",
      "38/38 [==============================] - 0s 7ms/step - loss: 0.6891 - accuracy: 0.5680\n",
      "Epoch 8/10\n",
      "38/38 [==============================] - 0s 5ms/step - loss: 0.6887 - accuracy: 0.5680\n",
      "Epoch 9/10\n",
      "38/38 [==============================] - 0s 6ms/step - loss: 0.6882 - accuracy: 0.5680\n",
      "Epoch 10/10\n",
      "38/38 [==============================] - 0s 8ms/step - loss: 0.6879 - accuracy: 0.5680\n",
      "Epoch 1/10\n",
      "38/38 [==============================] - 3s 8ms/step - loss: 245.8969 - accuracy: 0.5665\n",
      "Epoch 2/10\n",
      "38/38 [==============================] - 0s 7ms/step - loss: 42.9766 - accuracy: 0.4920\n",
      "Epoch 3/10\n",
      "38/38 [==============================] - 0s 6ms/step - loss: 0.6978 - accuracy: 0.4335\n",
      "Epoch 4/10\n",
      "38/38 [==============================] - 0s 5ms/step - loss: 0.6972 - accuracy: 0.4335\n",
      "Epoch 5/10\n",
      "38/38 [==============================] - 0s 6ms/step - loss: 0.6964 - accuracy: 0.4335\n",
      "Epoch 6/10\n",
      "38/38 [==============================] - 0s 6ms/step - loss: 0.6957 - accuracy: 0.4335\n",
      "Epoch 7/10\n",
      "38/38 [==============================] - 0s 6ms/step - loss: 0.6949 - accuracy: 0.4335\n",
      "Epoch 8/10\n",
      "38/38 [==============================] - 0s 5ms/step - loss: 0.6942 - accuracy: 0.4335\n",
      "Epoch 9/10\n",
      "38/38 [==============================] - ETA: 0s - loss: 0.6935 - accuracy: 0.44 - 0s 5ms/step - loss: 0.6935 - accuracy: 0.4495\n",
      "Epoch 10/10\n",
      "38/38 [==============================] - 0s 6ms/step - loss: 0.6928 - accuracy: 0.5665\n",
      "Epoch 1/10\n",
      "38/38 [==============================] - 2s 5ms/step - loss: 9.9748 - accuracy: 0.4681\n",
      "Epoch 2/10\n",
      "38/38 [==============================] - 0s 6ms/step - loss: 0.6918 - accuracy: 0.4388\n",
      "Epoch 3/10\n",
      "38/38 [==============================] - 0s 6ms/step - loss: 0.6925 - accuracy: 0.4894\n",
      "Epoch 4/10\n",
      "38/38 [==============================] - 0s 5ms/step - loss: 0.6917 - accuracy: 0.5665\n",
      "Epoch 5/10\n",
      "38/38 [==============================] - 0s 5ms/step - loss: 0.6910 - accuracy: 0.5665\n",
      "Epoch 6/10\n",
      "38/38 [==============================] - 0s 4ms/step - loss: 0.6900 - accuracy: 0.5665\n",
      "Epoch 7/10\n",
      "38/38 [==============================] - 0s 6ms/step - loss: 0.6886 - accuracy: 0.5665: 0s - loss: 0.6901 - accuracy: 0.56\n",
      "Epoch 8/10\n",
      "38/38 [==============================] - 0s 4ms/step - loss: 0.6878 - accuracy: 0.5665\n",
      "Epoch 9/10\n",
      "38/38 [==============================] - 0s 6ms/step - loss: 0.6870 - accuracy: 0.5665\n",
      "Epoch 10/10\n",
      "38/38 [==============================] - 0s 6ms/step - loss: 0.6863 - accuracy: 0.5665\n",
      "Epoch 1/10\n",
      "38/38 [==============================] - 1s 4ms/step - loss: 321.8426 - accuracy: 0.5771\n",
      "Epoch 2/10\n",
      "38/38 [==============================] - 0s 4ms/step - loss: 33.0834 - accuracy: 0.4521\n",
      "Epoch 3/10\n",
      "38/38 [==============================] - 0s 5ms/step - loss: 0.6976 - accuracy: 0.4229\n",
      "Epoch 4/10\n",
      "38/38 [==============================] - 0s 3ms/step - loss: 0.6968 - accuracy: 0.4229\n",
      "Epoch 5/10\n",
      "38/38 [==============================] - 0s 4ms/step - loss: 0.6958 - accuracy: 0.4229\n",
      "Epoch 6/10\n",
      "38/38 [==============================] - 0s 4ms/step - loss: 0.6948 - accuracy: 0.4229\n",
      "Epoch 7/10\n",
      "38/38 [==============================] - 0s 5ms/step - loss: 0.6939 - accuracy: 0.4229\n",
      "Epoch 8/10\n",
      "38/38 [==============================] - 0s 4ms/step - loss: 0.6929 - accuracy: 0.5346\n",
      "Epoch 9/10\n",
      "38/38 [==============================] - 0s 5ms/step - loss: 0.6920 - accuracy: 0.5771\n",
      "Epoch 10/10\n",
      "38/38 [==============================] - 0s 5ms/step - loss: 0.6913 - accuracy: 0.5771\n"
     ]
    }
   ],
   "source": [
    "results = []\n",
    "names = []\n",
    "for name, model in models:\n",
    "    kfold = KFold(n_splits=num_folds, random_state=seed, shuffle=True)\n",
    "    cv_results = cross_val_score(model, X_train, Y_train, cv=kfold, scoring=scoring,verbose=0)\n",
    "    results.append(cv_results)\n",
    "    names.append(name)\n",
    "    "
   ]
  },
  {
   "cell_type": "code",
   "execution_count": 122,
   "metadata": {},
   "outputs": [
    {
     "name": "stdout",
     "output_type": "stream",
     "text": [
      "LR: 0.611440 (0.054017)\n",
      "LDA: 0.606562 (0.067055)\n",
      "KNN: 0.546748 (0.057895)\n",
      "CART: 0.570790 (0.083178)\n",
      "NB: 0.613879 (0.067705)\n",
      "SVM: 0.601800 (0.059216)\n",
      "NN: 0.525377 (0.054561)\n",
      "AB: 0.621080 (0.094101)\n",
      "GBM: 0.621080 (0.041395)\n",
      "RF: 0.623287 (0.096566)\n",
      "ET: 0.599477 (0.060224)\n",
      "DNN: 0.556504 (0.066685)\n"
     ]
    }
   ],
   "source": [
    "i = 0\n",
    "for cv_results in results:  \n",
    "    name = names[i]  \n",
    "    msg = \"%s: %f (%f)\" % (name, cv_results.mean(), cv_results.std())\n",
    "    print(msg)\n",
    "    i = i+1"
   ]
  },
  {
   "cell_type": "markdown",
   "metadata": {},
   "source": [
    "### Algorithm comparison"
   ]
  },
  {
   "cell_type": "code",
   "execution_count": 78,
   "metadata": {
    "_cell_guid": "67873e9d-bc9b-6963-f594-805f1efbfbb3"
   },
   "outputs": [
    {
     "data": {
      "image/png": "[encoded data removed]",
      "text/plain": [
       "<Figure size 1080x576 with 1 Axes>"
      ]
     },
     "metadata": {
      "needs_background": "light"
     },
     "output_type": "display_data"
    }
   ],
   "source": [
    "# compare algorithms\n",
    "fig = pyplot.figure()\n",
    "fig.suptitle('Algorithm Comparison')\n",
    "ax = fig.add_subplot(111)\n",
    "pyplot.boxplot(results)\n",
    "ax.set_xticklabels(names)\n",
    "fig.set_size_inches(15,8)\n",
    "pyplot.show()"
   ]
  },
  {
   "cell_type": "markdown",
   "metadata": {},
   "source": [
    "<a id='5'></a>\n",
    "# 6. Model Tuning and Grid Search"
   ]
  },
  {
   "cell_type": "markdown",
   "metadata": {
    "_cell_guid": "848ca488-b0fd-8e93-2e68-23d32c71d89c"
   },
   "source": [
    "Algorithm Tuning: Although some of the models show the most promising options. the grid search for Gradient Bossting Classifier is shown below."
   ]
  },
  {
   "cell_type": "code",
   "execution_count": 81,
   "metadata": {},
   "outputs": [
    {
     "name": "stdout",
     "output_type": "stream",
     "text": [
      "Best: 0.623403 using {'C': 0.01, 'penalty': 'l2'}\n",
      "#8 nan (nan) with: {'C': 0.001, 'penalty': 'l1'}\n",
      "#7 0.570790 (0.051268) with: {'C': 0.001, 'penalty': 'l2'}\n",
      "#9 nan (nan) with: {'C': 0.01, 'penalty': 'l1'}\n",
      "#1 0.623403 (0.057929) with: {'C': 0.01, 'penalty': 'l2'}\n",
      "#10 nan (nan) with: {'C': 0.1, 'penalty': 'l1'}\n",
      "#2 0.606620 (0.074149) with: {'C': 0.1, 'penalty': 'l2'}\n",
      "#11 nan (nan) with: {'C': 1.0, 'penalty': 'l1'}\n",
      "#3 0.604181 (0.071294) with: {'C': 1.0, 'penalty': 'l2'}\n",
      "#12 nan (nan) with: {'C': 10.0, 'penalty': 'l1'}\n",
      "#3 0.604181 (0.071294) with: {'C': 10.0, 'penalty': 'l2'}\n",
      "#13 nan (nan) with: {'C': 100.0, 'penalty': 'l1'}\n",
      "#3 0.604181 (0.071294) with: {'C': 100.0, 'penalty': 'l2'}\n",
      "#14 nan (nan) with: {'C': 1000.0, 'penalty': 'l1'}\n",
      "#3 0.604181 (0.071294) with: {'C': 1000.0, 'penalty': 'l2'}\n"
     ]
    }
   ],
   "source": [
    "# 1. Grid search : Logistic Regression Algorithm \n",
    "'''\n",
    "penalty : str, ‘l1’, ‘l2’, ‘elasticnet’ or ‘none’, optional (default=’l2’)\n",
    "\n",
    "C : float, optional (default=1.0)\n",
    "Inverse of regularization strength; must be a positive float.Smaller values specify stronger regularization.\n",
    "''' \n",
    "scaler = StandardScaler().fit(X_train)\n",
    "rescaledX = scaler.transform(X_train)\n",
    "grid={\"C\":np.logspace(-3,3,7), \"penalty\":[\"l1\",\"l2\"]}# l1 lasso l2 ridge\n",
    "C= np.logspace(-3,3,7)\n",
    "penalty = [\"l1\",\"l2\"]# l1 lasso l2 ridge\n",
    "param_grid = dict(C=C,penalty=penalty )\n",
    "model = LogisticRegression()\n",
    "kfold = KFold(n_splits=num_folds, random_state=seed, shuffle=True)\n",
    "grid = GridSearchCV(estimator=model, param_grid=param_grid, scoring=scoring, cv=kfold)\n",
    "grid_result = grid.fit(rescaledX, Y_train)\n",
    "\n",
    "#Print Results\n",
    "print(\"Best: %f using %s\" % (grid_result.best_score_, grid_result.best_params_))\n",
    "means = grid_result.cv_results_['mean_test_score']\n",
    "stds = grid_result.cv_results_['std_test_score']\n",
    "params = grid_result.cv_results_['params']\n",
    "ranks = grid_result.cv_results_['rank_test_score']\n",
    "for mean, stdev, param, rank in zip(means, stds, params, ranks):\n",
    "    print(\"#%d %f (%f) with: %r\" % (rank, mean, stdev, param))"
   ]
  },
  {
   "cell_type": "code",
   "execution_count": 82,
   "metadata": {},
   "outputs": [
    {
     "name": "stdout",
     "output_type": "stream",
     "text": [
      "Best: 0.606562 using {'n_components': 1}\n",
      "#1 0.606562 (0.067055) with: {'n_components': 1}\n",
      "#2 nan (nan) with: {'n_components': 3}\n",
      "#3 nan (nan) with: {'n_components': 5}\n",
      "#4 nan (nan) with: {'n_components': 7}\n",
      "#5 nan (nan) with: {'n_components': 9}\n",
      "#6 nan (nan) with: {'n_components': 11}\n",
      "#7 nan (nan) with: {'n_components': 13}\n",
      "#8 nan (nan) with: {'n_components': 15}\n",
      "#9 nan (nan) with: {'n_components': 17}\n",
      "#10 nan (nan) with: {'n_components': 19}\n",
      "#11 nan (nan) with: {'n_components': 600}\n"
     ]
    }
   ],
   "source": [
    "# Grid Search : LDA Algorithm \n",
    "'''\n",
    "n_components : int, optional (default=None)\n",
    "Number of components for dimensionality reduction. If None, will be set to min(n_classes - 1, n_features).\n",
    "''' \n",
    "scaler = StandardScaler().fit(X_train)\n",
    "rescaledX = scaler.transform(X_train)\n",
    "components  = [1,3,5,7,9,11,13,15,17,19,600]\n",
    "param_grid = dict(n_components=components)\n",
    "model = LinearDiscriminantAnalysis()\n",
    "kfold = KFold(n_splits=num_folds, random_state=seed,shuffle=True)\n",
    "grid = GridSearchCV(estimator=model, param_grid=param_grid, scoring=scoring, cv=kfold)\n",
    "grid_result = grid.fit(rescaledX, Y_train)\n",
    "#Print Results\n",
    "print(\"Best: %f using %s\" % (grid_result.best_score_, grid_result.best_params_))\n",
    "means = grid_result.cv_results_['mean_test_score']\n",
    "stds = grid_result.cv_results_['std_test_score']\n",
    "params = grid_result.cv_results_['params']\n",
    "ranks = grid_result.cv_results_['rank_test_score']\n",
    "for mean, stdev, param, rank in zip(means, stds, params, ranks):\n",
    "    print(\"#%d %f (%f) with: %r\" % (rank, mean, stdev, param))"
   ]
  },
  {
   "cell_type": "code",
   "execution_count": 83,
   "metadata": {},
   "outputs": [
    {
     "name": "stdout",
     "output_type": "stream",
     "text": [
      "Best: 0.632927 using {'n_neighbors': 19, 'weights': 'distance'}\n",
      "#21 0.568351 (0.079508) with: {'n_neighbors': 1, 'weights': 'uniform'}\n",
      "#21 0.568351 (0.079508) with: {'n_neighbors': 1, 'weights': 'distance'}\n",
      "#13 0.594541 (0.100938) with: {'n_neighbors': 3, 'weights': 'uniform'}\n",
      "#11 0.594599 (0.092445) with: {'n_neighbors': 3, 'weights': 'distance'}\n",
      "#4 0.611150 (0.072539) with: {'n_neighbors': 5, 'weights': 'uniform'}\n",
      "#7 0.606214 (0.085169) with: {'n_neighbors': 5, 'weights': 'distance'}\n",
      "#11 0.594599 (0.068041) with: {'n_neighbors': 7, 'weights': 'uniform'}\n",
      "#4 0.611150 (0.072924) with: {'n_neighbors': 7, 'weights': 'distance'}\n",
      "#20 0.570674 (0.073861) with: {'n_neighbors': 9, 'weights': 'uniform'}\n",
      "#17 0.587340 (0.069366) with: {'n_neighbors': 9, 'weights': 'distance'}\n",
      "#16 0.589895 (0.071692) with: {'n_neighbors': 11, 'weights': 'uniform'}\n",
      "#10 0.601858 (0.080843) with: {'n_neighbors': 11, 'weights': 'distance'}\n",
      "#19 0.585017 (0.078795) with: {'n_neighbors': 13, 'weights': 'uniform'}\n",
      "#14 0.592276 (0.083538) with: {'n_neighbors': 13, 'weights': 'distance'}\n",
      "#18 0.585134 (0.086943) with: {'n_neighbors': 15, 'weights': 'uniform'}\n",
      "#15 0.590128 (0.089495) with: {'n_neighbors': 15, 'weights': 'distance'}\n",
      "#6 0.608943 (0.084666) with: {'n_neighbors': 17, 'weights': 'uniform'}\n",
      "#8 0.604355 (0.073503) with: {'n_neighbors': 17, 'weights': 'distance'}\n",
      "#2 0.618409 (0.090816) with: {'n_neighbors': 19, 'weights': 'uniform'}\n",
      "#1 0.632927 (0.078864) with: {'n_neighbors': 19, 'weights': 'distance'}\n",
      "#9 0.604007 (0.090224) with: {'n_neighbors': 21, 'weights': 'uniform'}\n",
      "#3 0.611382 (0.083928) with: {'n_neighbors': 21, 'weights': 'distance'}\n"
     ]
    }
   ],
   "source": [
    "# Grid Search KNN algorithm tuning\n",
    "'''\n",
    "n_neighbors : int, optional (default = 5)\n",
    "    Number of neighbors to use by default for kneighbors queries.\n",
    "\n",
    "weights : str or callable, optional (default = ‘uniform’)\n",
    "    weight function used in prediction. Possible values: ‘uniform’, ‘distance’\n",
    "\n",
    "''' \n",
    "scaler = StandardScaler().fit(X_train)\n",
    "rescaledX = scaler.transform(X_train)\n",
    "\n",
    "neighbors = [1,3,5,7,9,11,13,15,17,19,21]\n",
    "weights = ['uniform', 'distance']\n",
    "param_grid = dict(n_neighbors=neighbors, weights = weights )\n",
    "model = KNeighborsClassifier()\n",
    "kfold = KFold(n_splits=num_folds, random_state=seed,shuffle=True)\n",
    "grid = GridSearchCV(estimator=model, param_grid=param_grid, scoring=scoring, cv=kfold)\n",
    "grid_result = grid.fit(rescaledX, Y_train)\n",
    "\n",
    "#Print Results\n",
    "print(\"Best: %f using %s\" % (grid_result.best_score_, grid_result.best_params_))\n",
    "means = grid_result.cv_results_['mean_test_score']\n",
    "stds = grid_result.cv_results_['std_test_score']\n",
    "params = grid_result.cv_results_['params']\n",
    "ranks = grid_result.cv_results_['rank_test_score']\n",
    "for mean, stdev, param, rank in zip(means, stds, params, ranks):\n",
    "    print(\"#%d %f (%f) with: %r\" % (rank, mean, stdev, param))"
   ]
  },
  {
   "cell_type": "code",
   "execution_count": 84,
   "metadata": {},
   "outputs": [
    {
     "name": "stdout",
     "output_type": "stream",
     "text": [
      "Best: 0.616551 using {'max_depth': 6}\n",
      "#9 0.599419 (0.047852) with: {'max_depth': 2}\n",
      "#5 0.606736 (0.053753) with: {'max_depth': 3}\n",
      "#13 0.587398 (0.052282) with: {'max_depth': 4}\n",
      "#2 0.616260 (0.044362) with: {'max_depth': 5}\n",
      "#1 0.616551 (0.045793) with: {'max_depth': 6}\n",
      "#4 0.611672 (0.062833) with: {'max_depth': 7}\n",
      "#3 0.614111 (0.063139) with: {'max_depth': 8}\n",
      "#7 0.599884 (0.058521) with: {'max_depth': 9}\n",
      "#6 0.604704 (0.074655) with: {'max_depth': 10}\n",
      "#10 0.597503 (0.071712) with: {'max_depth': 11}\n",
      "#11 0.597154 (0.044511) with: {'max_depth': 12}\n",
      "#8 0.599710 (0.058298) with: {'max_depth': 13}\n",
      "#16 0.577991 (0.071167) with: {'max_depth': 14}\n",
      "#12 0.587689 (0.065936) with: {'max_depth': 15}\n",
      "#15 0.578107 (0.067223) with: {'max_depth': 16}\n",
      "#23 0.556388 (0.074020) with: {'max_depth': 17}\n",
      "#18 0.568525 (0.057690) with: {'max_depth': 18}\n",
      "#19 0.563531 (0.076242) with: {'max_depth': 19}\n",
      "#25 0.556330 (0.066910) with: {'max_depth': 20}\n",
      "#23 0.556388 (0.069030) with: {'max_depth': 21}\n",
      "#17 0.570964 (0.090348) with: {'max_depth': 22}\n",
      "#26 0.554239 (0.067027) with: {'max_depth': 23}\n",
      "#28 0.546864 (0.050011) with: {'max_depth': 24}\n",
      "#21 0.561208 (0.065839) with: {'max_depth': 25}\n",
      "#20 0.561498 (0.072652) with: {'max_depth': 26}\n",
      "#14 0.580372 (0.076669) with: {'max_depth': 27}\n",
      "#27 0.549419 (0.064052) with: {'max_depth': 28}\n",
      "#22 0.558885 (0.064889) with: {'max_depth': 29}\n"
     ]
    }
   ],
   "source": [
    "# Grid Search : CART Algorithm \n",
    "'''\n",
    "max_depth : int or None, optional (default=None)\n",
    "    The maximum depth of the tree. If None, then nodes are expanded until all leaves are pure \n",
    "    or until all leaves contain less than min_samples_split samples.\n",
    "\n",
    "''' \n",
    "scaler = StandardScaler().fit(X_train)\n",
    "rescaledX = scaler.transform(X_train)\n",
    "max_depth = np.arange(2, 30)\n",
    "param_grid = dict(max_depth=max_depth)\n",
    "model = DecisionTreeClassifier()\n",
    "kfold = KFold(n_splits=num_folds, random_state=seed,shuffle=True)\n",
    "grid = GridSearchCV(estimator=model, param_grid=param_grid, scoring=scoring, cv=kfold)\n",
    "grid_result = grid.fit(rescaledX, Y_train)\n",
    "#Print Results\n",
    "print(\"Best: %f using %s\" % (grid_result.best_score_, grid_result.best_params_))\n",
    "means = grid_result.cv_results_['mean_test_score']\n",
    "stds = grid_result.cv_results_['std_test_score']\n",
    "params = grid_result.cv_results_['params']\n",
    "ranks = grid_result.cv_results_['rank_test_score']\n",
    "for mean, stdev, param, rank in zip(means, stds, params, ranks):\n",
    "    print(\"#%d %f (%f) with: %r\" % (rank, mean, stdev, param))"
   ]
  },
  {
   "cell_type": "code",
   "execution_count": 85,
   "metadata": {},
   "outputs": [],
   "source": [
    "# Grid Search : NB algorithm tuning\n",
    "#GaussianNB only accepts priors as an argument so unless you have some priors to set for your model ahead of time \n",
    "#you will have nothing to grid search over.\n"
   ]
  },
  {
   "cell_type": "code",
   "execution_count": 86,
   "metadata": {},
   "outputs": [
    {
     "name": "stdout",
     "output_type": "stream",
     "text": [
      "Best: 0.649535 using {'C': 0.7, 'kernel': 'rbf'}\n",
      "#8 0.616376 (0.071503) with: {'C': 0.1, 'kernel': 'linear'}\n",
      "#23 0.592218 (0.053105) with: {'C': 0.1, 'kernel': 'poly'}\n",
      "#24 0.570790 (0.051268) with: {'C': 0.1, 'kernel': 'rbf'}\n",
      "#18 0.601974 (0.065673) with: {'C': 0.3, 'kernel': 'linear'}\n",
      "#19 0.601800 (0.066896) with: {'C': 0.3, 'kernel': 'poly'}\n",
      "#7 0.625552 (0.089579) with: {'C': 0.3, 'kernel': 'rbf'}\n",
      "#11 0.604413 (0.069859) with: {'C': 0.5, 'kernel': 'linear'}\n",
      "#22 0.601510 (0.087348) with: {'C': 0.5, 'kernel': 'poly'}\n",
      "#6 0.637631 (0.084031) with: {'C': 0.5, 'kernel': 'rbf'}\n",
      "#11 0.604413 (0.069859) with: {'C': 0.7, 'kernel': 'linear'}\n",
      "#10 0.606330 (0.089217) with: {'C': 0.7, 'kernel': 'poly'}\n",
      "#1 0.649535 (0.090117) with: {'C': 0.7, 'kernel': 'rbf'}\n",
      "#11 0.604413 (0.069859) with: {'C': 0.9, 'kernel': 'linear'}\n",
      "#9 0.613531 (0.085245) with: {'C': 0.9, 'kernel': 'poly'}\n",
      "#5 0.640070 (0.088256) with: {'C': 0.9, 'kernel': 'rbf'}\n",
      "#11 0.604413 (0.069859) with: {'C': 1.0, 'kernel': 'linear'}\n",
      "#21 0.601568 (0.077949) with: {'C': 1.0, 'kernel': 'poly'}\n",
      "#2 0.642509 (0.090392) with: {'C': 1.0, 'kernel': 'rbf'}\n",
      "#16 0.601974 (0.068336) with: {'C': 1.3, 'kernel': 'linear'}\n",
      "#20 0.601626 (0.063788) with: {'C': 1.3, 'kernel': 'poly'}\n",
      "#3 0.642451 (0.089890) with: {'C': 1.3, 'kernel': 'rbf'}\n",
      "#16 0.601974 (0.068336) with: {'C': 1.5, 'kernel': 'linear'}\n",
      "#15 0.604065 (0.058722) with: {'C': 1.5, 'kernel': 'poly'}\n",
      "#3 0.642451 (0.086680) with: {'C': 1.5, 'kernel': 'rbf'}\n"
     ]
    }
   ],
   "source": [
    "# Grid Search: SVM algorithm tuning\n",
    "'''\n",
    "C : float, optional (default=1.0)\n",
    "Penalty parameter C of the error term.\n",
    "\n",
    "kernel : string, optional (default=’rbf’)\n",
    "Specifies the kernel type to be used in the algorithm. \n",
    "It must be one of ‘linear’, ‘poly’, ‘rbf’, ‘sigmoid’, ‘precomputed’ or a callable. \n",
    "Parameters of SVM are C and kernel. \n",
    "Try a number of kernels with various values of C with less bias and more bias (less than and greater than 1.0 respectively\n",
    "''' \n",
    "scaler = StandardScaler().fit(X_train)\n",
    "rescaledX = scaler.transform(X_train)\n",
    "c_values = [0.1, 0.3, 0.5, 0.7, 0.9, 1.0, 1.3, 1.5]\n",
    "kernel_values = ['linear', 'poly', 'rbf']\n",
    "param_grid = dict(C=c_values, kernel=kernel_values)\n",
    "model = SVC()\n",
    "kfold = KFold(n_splits=num_folds, random_state=seed,shuffle=True)\n",
    "grid = GridSearchCV(estimator=model, param_grid=param_grid, scoring=scoring, cv=kfold)\n",
    "grid_result = grid.fit(rescaledX, Y_train)\n",
    "\n",
    "#Print Results\n",
    "print(\"Best: %f using %s\" % (grid_result.best_score_, grid_result.best_params_))\n",
    "means = grid_result.cv_results_['mean_test_score']\n",
    "stds = grid_result.cv_results_['std_test_score']\n",
    "params = grid_result.cv_results_['params']\n",
    "ranks = grid_result.cv_results_['rank_test_score']\n",
    "for mean, stdev, param, rank in zip(means, stds, params, ranks):\n",
    "    print(\"#%d %f (%f) with: %r\" % (rank, mean, stdev, param))"
   ]
  },
  {
   "cell_type": "code",
   "execution_count": 87,
   "metadata": {},
   "outputs": [
    {
     "name": "stdout",
     "output_type": "stream",
     "text": [
      "Best: 0.621080 using {'n_estimators': 10}\n",
      "#1 0.621080 (0.055343) with: {'n_estimators': 10}\n",
      "#2 0.589895 (0.077183) with: {'n_estimators': 100}\n"
     ]
    }
   ],
   "source": [
    "# Grid Search: Ada boost Algorithm Tuning \n",
    "'''\n",
    "n_estimators : integer, optional (default=50)\n",
    "    The maximum number of estimators at which boosting is terminated. \n",
    "    In case of perfect fit, the learning procedure is stopped early.\n",
    "''' \n",
    "scaler = StandardScaler().fit(X_train)\n",
    "rescaledX = scaler.transform(X_train)\n",
    "n_estimators = [10, 100]\n",
    "param_grid = dict(n_estimators=n_estimators)\n",
    "model = AdaBoostClassifier()\n",
    "kfold = KFold(n_splits=num_folds, random_state=seed,shuffle=True)\n",
    "grid = GridSearchCV(estimator=model, param_grid=param_grid, scoring=scoring, cv=kfold)\n",
    "grid_result = grid.fit(rescaledX, Y_train)\n",
    "\n",
    "#Print Results\n",
    "print(\"Best: %f using %s\" % (grid_result.best_score_, grid_result.best_params_))\n",
    "means = grid_result.cv_results_['mean_test_score']\n",
    "stds = grid_result.cv_results_['std_test_score']\n",
    "params = grid_result.cv_results_['params']\n",
    "ranks = grid_result.cv_results_['rank_test_score']\n",
    "for mean, stdev, param, rank in zip(means, stds, params, ranks):\n",
    "    print(\"#%d %f (%f) with: %r\" % (rank, mean, stdev, param))"
   ]
  },
  {
   "cell_type": "code",
   "execution_count": 88,
   "metadata": {},
   "outputs": [
    {
     "name": "stdout",
     "output_type": "stream",
     "text": [
      "Best: 0.642741 using {'max_depth': 3, 'n_estimators': 180}\n",
      "#4 0.604297 (0.049970) with: {'max_depth': 3, 'n_estimators': 20}\n",
      "#1 0.642741 (0.042854) with: {'max_depth': 3, 'n_estimators': 180}\n",
      "#3 0.618641 (0.031544) with: {'max_depth': 5, 'n_estimators': 20}\n",
      "#2 0.630894 (0.044330) with: {'max_depth': 5, 'n_estimators': 180}\n"
     ]
    }
   ],
   "source": [
    "# Grid Search: GradientBoosting Tuning\n",
    "'''\n",
    "n_estimators : int (default=100)\n",
    "    The number of boosting stages to perform. \n",
    "    Gradient boosting is fairly robust to over-fitting so a large number usually results in better performance.\n",
    "max_depth : integer, optional (default=3)\n",
    "    maximum depth of the individual regression estimators. \n",
    "    The maximum depth limits the number of nodes in the tree. \n",
    "    Tune this parameter for best performance; the best value depends on the interaction of the input variables.\n",
    "\n",
    "''' \n",
    "scaler = StandardScaler().fit(X_train)\n",
    "rescaledX = scaler.transform(X_train)\n",
    "n_estimators = [20,180]\n",
    "max_depth= [3,5]\n",
    "param_grid = dict(n_estimators=n_estimators, max_depth=max_depth)\n",
    "model = GradientBoostingClassifier()\n",
    "kfold = KFold(n_splits=num_folds, random_state=seed,shuffle=True)\n",
    "grid = GridSearchCV(estimator=model, param_grid=param_grid, scoring=scoring, cv=kfold)\n",
    "grid_result = grid.fit(rescaledX, Y_train)\n",
    "\n",
    "#Print Results\n",
    "print(\"Best: %f using %s\" % (grid_result.best_score_, grid_result.best_params_))\n",
    "means = grid_result.cv_results_['mean_test_score']\n",
    "stds = grid_result.cv_results_['std_test_score']\n",
    "params = grid_result.cv_results_['params']\n",
    "ranks = grid_result.cv_results_['rank_test_score']\n",
    "for mean, stdev, param, rank in zip(means, stds, params, ranks):\n",
    "    print(\"#%d %f (%f) with: %r\" % (rank, mean, stdev, param))"
   ]
  },
  {
   "cell_type": "code",
   "execution_count": 89,
   "metadata": {},
   "outputs": [
    {
     "name": "stdout",
     "output_type": "stream",
     "text": [
      "Best: 0.635540 using {'criterion': 'entropy', 'max_depth': 10, 'n_estimators': 20}\n",
      "#7 0.601684 (0.077346) with: {'criterion': 'gini', 'max_depth': 5, 'n_estimators': 20}\n",
      "#5 0.620964 (0.063715) with: {'criterion': 'gini', 'max_depth': 5, 'n_estimators': 80}\n",
      "#8 0.596922 (0.074654) with: {'criterion': 'gini', 'max_depth': 10, 'n_estimators': 20}\n",
      "#3 0.625784 (0.074696) with: {'criterion': 'gini', 'max_depth': 10, 'n_estimators': 80}\n",
      "#6 0.616492 (0.059818) with: {'criterion': 'entropy', 'max_depth': 5, 'n_estimators': 20}\n",
      "#4 0.623287 (0.071035) with: {'criterion': 'entropy', 'max_depth': 5, 'n_estimators': 80}\n",
      "#1 0.635540 (0.074429) with: {'criterion': 'entropy', 'max_depth': 10, 'n_estimators': 20}\n",
      "#2 0.630430 (0.075827) with: {'criterion': 'entropy', 'max_depth': 10, 'n_estimators': 80}\n"
     ]
    }
   ],
   "source": [
    "# Grid Search: Random Forest Classifier\n",
    "'''\n",
    "n_estimators : int (default=100)\n",
    "    The number of boosting stages to perform. \n",
    "    Gradient boosting is fairly robust to over-fitting so a large number usually results in better performance.\n",
    "max_depth : integer, optional (default=3)\n",
    "    maximum depth of the individual regression estimators. \n",
    "    The maximum depth limits the number of nodes in the tree. \n",
    "    Tune this parameter for best performance; the best value depends on the interaction of the input variables    \n",
    "criterion : string, optional (default=”gini”)\n",
    "    The function to measure the quality of a split. \n",
    "    Supported criteria are “gini” for the Gini impurity and “entropy” for the information gain. \n",
    "    \n",
    "'''   \n",
    "scaler = StandardScaler().fit(X_train)\n",
    "rescaledX = scaler.transform(X_train)\n",
    "n_estimators = [20,80]\n",
    "max_depth= [5,10]\n",
    "criterion = [\"gini\",\"entropy\"]\n",
    "param_grid = dict(n_estimators=n_estimators, max_depth=max_depth, criterion = criterion )\n",
    "model = RandomForestClassifier()\n",
    "kfold = KFold(n_splits=num_folds, random_state=seed,shuffle=True)\n",
    "grid = GridSearchCV(estimator=model, param_grid=param_grid, scoring=scoring, cv=kfold)\n",
    "grid_result = grid.fit(rescaledX, Y_train)\n",
    "\n",
    "#Print Results\n",
    "print(\"Best: %f using %s\" % (grid_result.best_score_, grid_result.best_params_))\n",
    "means = grid_result.cv_results_['mean_test_score']\n",
    "stds = grid_result.cv_results_['std_test_score']\n",
    "params = grid_result.cv_results_['params']\n",
    "ranks = grid_result.cv_results_['rank_test_score']\n",
    "for mean, stdev, param, rank in zip(means, stds, params, ranks):\n",
    "    print(\"#%d %f (%f) with: %r\" % (rank, mean, stdev, param))"
   ]
  },
  {
   "cell_type": "code",
   "execution_count": 90,
   "metadata": {},
   "outputs": [
    {
     "name": "stdout",
     "output_type": "stream",
     "text": [
      "Best: 0.620848 using {'criterion': 'gini', 'max_depth': 5, 'n_estimators': 20}\n",
      "#1 0.620848 (0.068060) with: {'criterion': 'gini', 'max_depth': 5, 'n_estimators': 20}\n",
      "#4 0.613705 (0.078011) with: {'criterion': 'gini', 'max_depth': 5, 'n_estimators': 80}\n",
      "#2 0.618583 (0.083727) with: {'criterion': 'gini', 'max_depth': 10, 'n_estimators': 20}\n",
      "#7 0.577991 (0.060770) with: {'criterion': 'gini', 'max_depth': 10, 'n_estimators': 80}\n",
      "#5 0.604065 (0.063000) with: {'criterion': 'entropy', 'max_depth': 5, 'n_estimators': 20}\n",
      "#3 0.618409 (0.075406) with: {'criterion': 'entropy', 'max_depth': 5, 'n_estimators': 80}\n",
      "#6 0.597387 (0.084847) with: {'criterion': 'entropy', 'max_depth': 10, 'n_estimators': 20}\n",
      "#8 0.575494 (0.074005) with: {'criterion': 'entropy', 'max_depth': 10, 'n_estimators': 80}\n"
     ]
    }
   ],
   "source": [
    "# Grid Search: ExtraTreesClassifier()\n",
    "'''\n",
    "n_estimators : int (default=100)\n",
    "    The number of boosting stages to perform. \n",
    "    Gradient boosting is fairly robust to over-fitting so a large number usually results in better performance.\n",
    "max_depth : integer, optional (default=3)\n",
    "    maximum depth of the individual regression estimators. \n",
    "    The maximum depth limits the number of nodes in the tree. \n",
    "    Tune this parameter for best performance; the best value depends on the interaction of the input variables    \n",
    "criterion : string, optional (default=”gini”)\n",
    "    The function to measure the quality of a split. \n",
    "    Supported criteria are “gini” for the Gini impurity and “entropy” for the information gain. \n",
    "'''   \n",
    "scaler = StandardScaler().fit(X_train)\n",
    "rescaledX = scaler.transform(X_train)\n",
    "n_estimators = [20,80]\n",
    "max_depth= [5,10]\n",
    "criterion = [\"gini\",\"entropy\"]\n",
    "param_grid = dict(n_estimators=n_estimators, max_depth=max_depth, criterion = criterion )\n",
    "model = ExtraTreesClassifier()\n",
    "kfold = KFold(n_splits=num_folds, random_state=seed,shuffle=True)\n",
    "grid = GridSearchCV(estimator=model, param_grid=param_grid, scoring=scoring, cv=kfold)\n",
    "grid_result = grid.fit(rescaledX, Y_train)\n",
    "\n",
    "#Print Results\n",
    "print(\"Best: %f using %s\" % (grid_result.best_score_, grid_result.best_params_))\n",
    "means = grid_result.cv_results_['mean_test_score']\n",
    "stds = grid_result.cv_results_['std_test_score']\n",
    "params = grid_result.cv_results_['params']\n",
    "ranks = grid_result.cv_results_['rank_test_score']\n",
    "for mean, stdev, param, rank in zip(means, stds, params, ranks):\n",
    "    print(\"#%d %f (%f) with: %r\" % (rank, mean, stdev, param))"
   ]
  },
  {
   "cell_type": "code",
   "execution_count": 91,
   "metadata": {},
   "outputs": [
    {
     "name": "stdout",
     "output_type": "stream",
     "text": [
      "Best: 0.649593 using {'hidden_layer_sizes': (20,)}\n",
      "#1 0.649593 (0.110529) with: {'hidden_layer_sizes': (20,)}\n",
      "#2 0.630546 (0.090118) with: {'hidden_layer_sizes': (50,)}\n",
      "#3 0.620674 (0.080485) with: {'hidden_layer_sizes': (20, 20)}\n",
      "#4 0.608885 (0.067807) with: {'hidden_layer_sizes': (20, 30, 20)}\n"
     ]
    }
   ],
   "source": [
    "# Grid Search : NN algorithm tuning\n",
    "'''\n",
    "hidden_layer_sizes : tuple, length = n_layers - 2, default (100,)\n",
    "    The ith element represents the number of neurons in the ith hidden layer.\n",
    "Other Parameters that can be tuned\n",
    "    learning_rate_init : double, optional, default 0.001\n",
    "        The initial learning rate used. It controls the step-size in updating the weights. Only used when solver=’sgd’ or ‘adam’.\n",
    "    max_iter : int, optional, default 200\n",
    "        Maximum number of iterations. The solver iterates until convergence (determined by ‘tol’) or this number of iterations. For stochastic solvers (‘sgd’, ‘adam’), note that this determines the number of epochs (how many times each data point will be used), not the number of gradient steps.\n",
    "''' \n",
    "scaler = StandardScaler().fit(X_train)\n",
    "rescaledX = scaler.transform(X_train)\n",
    "hidden_layer_sizes=[(20,), (50,), (20,20), (20, 30, 20)]\n",
    "param_grid = dict(hidden_layer_sizes=hidden_layer_sizes)\n",
    "model = MLPClassifier()\n",
    "kfold = KFold(n_splits=num_folds, random_state=seed,shuffle=True)\n",
    "grid = GridSearchCV(estimator=model, param_grid=param_grid, scoring=scoring, cv=kfold)\n",
    "grid_result = grid.fit(rescaledX, Y_train)\n",
    "\n",
    "#Print Results\n",
    "print(\"Best: %f using %s\" % (grid_result.best_score_, grid_result.best_params_))\n",
    "means = grid_result.cv_results_['mean_test_score']\n",
    "stds = grid_result.cv_results_['std_test_score']\n",
    "params = grid_result.cv_results_['params']\n",
    "ranks = grid_result.cv_results_['rank_test_score']\n",
    "for mean, stdev, param, rank in zip(means, stds, params, ranks):\n",
    "    print(\"#%d %f (%f) with: %r\" % (rank, mean, stdev, param))"
   ]
  },
  {
   "cell_type": "code",
   "execution_count": 92,
   "metadata": {},
   "outputs": [
    {
     "name": "stdout",
     "output_type": "stream",
     "text": [
      "Best: 0.613705 using {'neurons': 10}\n",
      "#4 0.573113 (0.079268) with: {'neurons': 1}\n",
      "#2 0.613531 (0.098706) with: {'neurons': 5}\n",
      "#1 0.613705 (0.096752) with: {'neurons': 10}\n",
      "#3 0.594599 (0.089326) with: {'neurons': 15}\n"
     ]
    }
   ],
   "source": [
    "# Grid Search : Deep Neural Network algorithm tuning\n",
    "'''\n",
    "neurons: int\n",
    "    Number of patterns shown to the network before the weights are updated.     \n",
    "batch_size: int\n",
    "    Number of observation to read at a time and keep in memory.\n",
    "epochs: int\n",
    "    Number of times that the entire training dataset is shown to the network during training.\n",
    "activation:\n",
    "    The activation function controls the non-linearity of individual neurons and when to fire.\n",
    "learn_rate :int\n",
    "    controls how much to update the weight at the end of each batch\n",
    "momentum : int\n",
    "     momentum controls how much to let the previous update influence the current weight update\n",
    "''' \n",
    "scaler = StandardScaler().fit(X_train)\n",
    "rescaledX = scaler.transform(X_train)\n",
    "#Hyperparameters that can be modified\n",
    "neurons = [1, 5, 10, 15]\n",
    "batch_size = [10, 20, 40, 60, 80, 100]\n",
    "epochs = [10, 50, 100]\n",
    "activation = ['softmax', 'softplus', 'softsign', 'relu', 'tanh', 'sigmoid', 'hard_sigmoid', 'linear']\n",
    "learn_rate = [0.001, 0.01, 0.1, 0.2, 0.3]\n",
    "momentum = [0.0, 0.2, 0.4, 0.6, 0.8, 0.9]\n",
    "\n",
    "#Changing only Neurons for the sake of simplicity\n",
    "param_grid = dict(neurons=neurons)\n",
    "model = KerasClassifier(build_fn=create_model, epochs=50, batch_size=10, verbose=0)\n",
    "kfold = KFold(n_splits=num_folds, random_state=seed,shuffle=True)\n",
    "grid = GridSearchCV(estimator=model, param_grid=param_grid, scoring=scoring, cv=kfold)\n",
    "grid_result = grid.fit(rescaledX, Y_train)\n",
    "\n",
    "#Print Results\n",
    "print(\"Best: %f using %s\" % (grid_result.best_score_, grid_result.best_params_))\n",
    "means = grid_result.cv_results_['mean_test_score']\n",
    "stds = grid_result.cv_results_['std_test_score']\n",
    "params = grid_result.cv_results_['params']\n",
    "ranks = grid_result.cv_results_['rank_test_score']\n",
    "for mean, stdev, param, rank in zip(means, stds, params, ranks):\n",
    "    print(\"#%d %f (%f) with: %r\" % (rank, mean, stdev, param))"
   ]
  },
  {
   "cell_type": "markdown",
   "metadata": {},
   "source": [
    "<a id='6'></a>\n",
    "# 7. Finalise the Model"
   ]
  },
  {
   "cell_type": "markdown",
   "metadata": {},
   "source": [
    "Looking at the details above GBM might be worthy of further study, but for now SVM shows a lot of promise as a low complexity and stable model for this problem.\n",
    "\n",
    "Finalize Model with best parameters found during tuning step."
   ]
  },
  {
   "cell_type": "markdown",
   "metadata": {},
   "source": [
    "<a id='6.1'></a>\n",
    "## 7.1. Results on the Test Dataset"
   ]
  },
  {
   "cell_type": "code",
   "execution_count": 93,
   "metadata": {},
   "outputs": [
    {
     "data": {
      "text/html": [
       "<style>#sk-container-id-3 {color: black;background-color: white;}#sk-container-id-3 pre{padding: 0;}#sk-container-id-3 div.sk-toggleable {background-color: white;}#sk-container-id-3 label.sk-toggleable__label {cursor: pointer;display: block;width: 100%;margin-bottom: 0;padding: 0.3em;box-sizing: border-box;text-align: center;}#sk-container-id-3 label.sk-toggleable__label-arrow:before {content: \"▸\";float: left;margin-right: 0.25em;color: #696969;}#sk-container-id-3 label.sk-toggleable__label-arrow:hover:before {color: black;}#sk-container-id-3 div.sk-estimator:hover label.sk-toggleable__label-arrow:before {color: black;}#sk-container-id-3 div.sk-toggleable__content {max-height: 0;max-width: 0;overflow: hidden;text-align: left;background-color: #f0f8ff;}#sk-container-id-3 div.sk-toggleable__content pre {margin: 0.2em;color: black;border-radius: 0.25em;background-color: #f0f8ff;}#sk-container-id-3 input.sk-toggleable__control:checked~div.sk-toggleable__content {max-height: 200px;max-width: 100%;overflow: auto;}#sk-container-id-3 input.sk-toggleable__control:checked~label.sk-toggleable__label-arrow:before {content: \"▾\";}#sk-container-id-3 div.sk-estimator input.sk-toggleable__control:checked~label.sk-toggleable__label {background-color: #d4ebff;}#sk-container-id-3 div.sk-label input.sk-toggleable__control:checked~label.sk-toggleable__label {background-color: #d4ebff;}#sk-container-id-3 input.sk-hidden--visually {border: 0;clip: rect(1px 1px 1px 1px);clip: rect(1px, 1px, 1px, 1px);height: 1px;margin: -1px;overflow: hidden;padding: 0;position: absolute;width: 1px;}#sk-container-id-3 div.sk-estimator {font-family: monospace;background-color: #f0f8ff;border: 1px dotted black;border-radius: 0.25em;box-sizing: border-box;margin-bottom: 0.5em;}#sk-container-id-3 div.sk-estimator:hover {background-color: #d4ebff;}#sk-container-id-3 div.sk-parallel-item::after {content: \"\";width: 100%;border-bottom: 1px solid gray;flex-grow: 1;}#sk-container-id-3 div.sk-label:hover label.sk-toggleable__label {background-color: #d4ebff;}#sk-container-id-3 div.sk-serial::before {content: \"\";position: absolute;border-left: 1px solid gray;box-sizing: border-box;top: 0;bottom: 0;left: 50%;z-index: 0;}#sk-container-id-3 div.sk-serial {display: flex;flex-direction: column;align-items: center;background-color: white;padding-right: 0.2em;padding-left: 0.2em;position: relative;}#sk-container-id-3 div.sk-item {position: relative;z-index: 1;}#sk-container-id-3 div.sk-parallel {display: flex;align-items: stretch;justify-content: center;background-color: white;position: relative;}#sk-container-id-3 div.sk-item::before, #sk-container-id-3 div.sk-parallel-item::before {content: \"\";position: absolute;border-left: 1px solid gray;box-sizing: border-box;top: 0;bottom: 0;left: 50%;z-index: -1;}#sk-container-id-3 div.sk-parallel-item {display: flex;flex-direction: column;z-index: 1;position: relative;background-color: white;}#sk-container-id-3 div.sk-parallel-item:first-child::after {align-self: flex-end;width: 50%;}#sk-container-id-3 div.sk-parallel-item:last-child::after {align-self: flex-start;width: 50%;}#sk-container-id-3 div.sk-parallel-item:only-child::after {width: 0;}#sk-container-id-3 div.sk-dashed-wrapped {border: 1px dashed gray;margin: 0 0.4em 0.5em 0.4em;box-sizing: border-box;padding-bottom: 0.4em;background-color: white;}#sk-container-id-3 div.sk-label label {font-family: monospace;font-weight: bold;display: inline-block;line-height: 1.2em;}#sk-container-id-3 div.sk-label-container {text-align: center;}#sk-container-id-3 div.sk-container {/* jupyter's `normalize.less` sets `[hidden] { display: none; }` but bootstrap.min.css set `[hidden] { display: none !important; }` so we also need the `!important` here to be able to override the default hidden behavior on the sphinx rendered scikit-learn.org. See: https://github.com/scikit-learn/scikit-learn/issues/21755 */display: inline-block !important;position: relative;}#sk-container-id-3 div.sk-text-repr-fallback {display: none;}</style><div id=\"sk-container-id-3\" class=\"sk-top-container\"><div class=\"sk-text-repr-fallback\"><pre>GradientBoostingClassifier(max_depth=5, n_estimators=20)</pre><b>In a Jupyter environment, please rerun this cell to show the HTML representation or trust the notebook. <br />On GitHub, the HTML representation is unable to render, please try loading this page with nbviewer.org.</b></div><div class=\"sk-container\" hidden><div class=\"sk-item\"><div class=\"sk-estimator sk-toggleable\"><input class=\"sk-toggleable__control sk-hidden--visually\" id=\"sk-estimator-id-3\" type=\"checkbox\" checked><label for=\"sk-estimator-id-3\" class=\"sk-toggleable__label sk-toggleable__label-arrow\">GradientBoostingClassifier</label><div class=\"sk-toggleable__content\"><pre>GradientBoostingClassifier(max_depth=5, n_estimators=20)</pre></div></div></div></div></div>"
      ],
      "text/plain": [
       "GradientBoostingClassifier(max_depth=5, n_estimators=20)"
      ]
     },
     "execution_count": 93,
     "metadata": {},
     "output_type": "execute_result"
    }
   ],
   "source": [
    "# prepare model\n",
    "scaler = StandardScaler().fit(X_train)\n",
    "rescaledX = scaler.transform(X_train)\n",
    "model = GradientBoostingClassifier(n_estimators=20, max_depth=5) # rbf is default kernel\n",
    "model.fit(X_train, Y_train)"
   ]
  },
  {
   "cell_type": "code",
   "execution_count": 94,
   "metadata": {
    "_cell_guid": "f9725666-3c21-69d1-ddf6-45e47d982444"
   },
   "outputs": [
    {
     "name": "stdout",
     "output_type": "stream",
     "text": [
      "0.6761904761904762\n",
      "[[30 22]\n",
      " [12 41]]\n",
      "              precision    recall  f1-score   support\n",
      "\n",
      "           0       0.71      0.58      0.64        52\n",
      "           1       0.65      0.77      0.71        53\n",
      "\n",
      "    accuracy                           0.68       105\n",
      "   macro avg       0.68      0.68      0.67       105\n",
      "weighted avg       0.68      0.68      0.67       105\n",
      "\n"
     ]
    }
   ],
   "source": [
    "# estimate accuracy on validation set\n",
    "rescaledValidationX = scaler.transform(X_validation)\n",
    "predictions = model.predict(X_validation)\n",
    "print(accuracy_score(Y_validation, predictions))\n",
    "print(confusion_matrix(Y_validation, predictions))\n",
    "print(classification_report(Y_validation, predictions))"
   ]
  },
  {
   "cell_type": "code",
   "execution_count": 95,
   "metadata": {},
   "outputs": [
    {
     "data": {
      "text/plain": [
       "array([0, 0, 1, 1, 0, 1, 1, 1, 1, 1, 1, 1, 0, 1, 1, 1, 0, 1, 1, 0, 1, 0,\n",
       "       0, 0, 0, 1, 0, 1, 0, 1, 1, 0, 1, 1, 0, 1, 0, 1, 1, 1, 0, 1, 1, 0,\n",
       "       0, 1, 1, 0, 1, 1, 0, 1, 1, 1, 1, 0, 1, 0, 0, 0, 1, 0, 0, 0, 1, 1,\n",
       "       0, 1, 1, 1, 0, 1, 1, 0, 1, 0, 0, 1, 1, 1, 1, 1, 0, 1, 0, 0, 0, 0,\n",
       "       1, 1, 1, 1, 0, 0, 1, 1, 0, 1, 1, 1, 1, 0, 1, 1, 0])"
      ]
     },
     "execution_count": 95,
     "metadata": {},
     "output_type": "execute_result"
    }
   ],
   "source": [
    "predictions"
   ]
  },
  {
   "cell_type": "code",
   "execution_count": 96,
   "metadata": {},
   "outputs": [
    {
     "data": {
      "text/plain": [
       "998    0\n",
       "989    1\n",
       "664    1\n",
       "474    0\n",
       "601    0\n",
       "918    0\n",
       "114    1\n",
       "7      1\n",
       "593    0\n",
       "201    1\n",
       "946    0\n",
       "156    1\n",
       "375    0\n",
       "513    1\n",
       "177    1\n",
       "89     0\n",
       "466    0\n",
       "537    1\n",
       "634    0\n",
       "927    0\n",
       "454    0\n",
       "648    0\n",
       "938    0\n",
       "530    1\n",
       "818    1\n",
       "498    1\n",
       "197    0\n",
       "961    1\n",
       "405    0\n",
       "432    1\n",
       "806    1\n",
       "35     0\n",
       "531    0\n",
       "334    0\n",
       "652    0\n",
       "22     1\n",
       "677    0\n",
       "605    1\n",
       "515    1\n",
       "51     1\n",
       "145    1\n",
       "729    1\n",
       "475    0\n",
       "313    0\n",
       "252    0\n",
       "97     1\n",
       "969    1\n",
       "88     1\n",
       "501    1\n",
       "38     1\n",
       "273    0\n",
       "793    1\n",
       "576    1\n",
       "479    1\n",
       "442    1\n",
       "320    0\n",
       "212    0\n",
       "172    0\n",
       "917    0\n",
       "812    0\n",
       "207    1\n",
       "72     1\n",
       "727    0\n",
       "491    0\n",
       "849    0\n",
       "919    0\n",
       "328    1\n",
       "834    0\n",
       "835    0\n",
       "721    0\n",
       "711    0\n",
       "347    1\n",
       "896    1\n",
       "831    0\n",
       "521    0\n",
       "930    1\n",
       "832    0\n",
       "623    1\n",
       "684    1\n",
       "666    1\n",
       "458    1\n",
       "157    1\n",
       "602    0\n",
       "284    1\n",
       "714    0\n",
       "107    1\n",
       "422    1\n",
       "653    0\n",
       "730    1\n",
       "416    0\n",
       "293    1\n",
       "923    1\n",
       "876    1\n",
       "191    0\n",
       "892    1\n",
       "709    1\n",
       "814    0\n",
       "471    0\n",
       "398    0\n",
       "506    1\n",
       "597    0\n",
       "44     0\n",
       "34     1\n",
       "840    0\n",
       "47     1\n",
       "Name: Risk_Code, dtype: int32"
      ]
     },
     "execution_count": 96,
     "metadata": {},
     "output_type": "execute_result"
    }
   ],
   "source": [
    "Y_validation"
   ]
  },
  {
   "cell_type": "markdown",
   "metadata": {},
   "source": [
    "<a id='6.2'></a>\n",
    "## 7.2. Variable Intuition/Feature Importance\n",
    "Looking at the details above GBM might be worthy of further study, but for now SVM shows a lot of promise as a low complexity and stable model for this problem.\n",
    "Let us look into the Feature Importance of the GBM model"
   ]
  },
  {
   "cell_type": "code",
   "execution_count": 97,
   "metadata": {},
   "outputs": [
    {
     "name": "stdout",
     "output_type": "stream",
     "text": [
      "[0.14774962 0.02702675 0.45519451 0.23206718 0.00467609 0.02338434\n",
      " 0.03628914 0.02775184 0.04586054]\n"
     ]
    },
    {
     "data": {
      "image/png": "[encoded data removed]",
      "text/plain": [
       "<Figure size 432x288 with 1 Axes>"
      ]
     },
     "metadata": {
      "needs_background": "light"
     },
     "output_type": "display_data"
    }
   ],
   "source": [
    "import pandas as pd\n",
    "import numpy as np\n",
    "model = GradientBoostingClassifier()\n",
    "model.fit(rescaledX,Y_train)\n",
    "print(model.feature_importances_) #use inbuilt class feature_importances of tree based classifiers\n",
    "#plot graph of feature importances for better visualization\n",
    "feat_importances = pd.Series(model.feature_importances_, index=X.columns)\n",
    "feat_importances.nlargest(10).plot(kind='barh')\n",
    "pyplot.show()"
   ]
  },
  {
   "cell_type": "markdown",
   "metadata": {},
   "source": [
    "<a id='6.3'></a>\n",
    "## 7.3. Save Model for Later Use"
   ]
  },
  {
   "cell_type": "code",
   "execution_count": 98,
   "metadata": {},
   "outputs": [],
   "source": [
    "# Save Model Using Pickle\n",
    "from pickle import dump\n",
    "from pickle import load\n",
    "\n",
    "# save the model to disk\n",
    "filename = 'finalized_model.sav'\n",
    "dump(model, open(filename, 'wb'))"
   ]
  },
  {
   "cell_type": "code",
   "execution_count": 99,
   "metadata": {},
   "outputs": [
    {
     "name": "stdout",
     "output_type": "stream",
     "text": [
      "0.6952380952380952\n"
     ]
    }
   ],
   "source": [
    "# some time later...\n",
    "# load the model from disk\n",
    "loaded_model = load(open(filename, 'rb'))\n",
    "# estimate accuracy on validation set\n",
    "rescaledValidationX = scaler.transform(X_validation)\n",
    "predictions = model.predict(rescaledValidationX)\n",
    "result = accuracy_score(Y_validation, predictions)\n",
    "print(result)"
   ]
  }
 ],
 "metadata": {
  "_change_revision": 206,
  "_is_fork": false,
  "kernelspec": {
   "display_name": "Python 3",
   "language": "python",
   "name": "python3"
  },
  "language_info": {
   "codemirror_mode": {
    "name": "ipython",
    "version": 3
   },
   "file_extension": ".py",
   "mimetype": "text/x-python",
   "name": "python",
   "nbconvert_exporter": "python",
   "pygments_lexer": "ipython3",
   "version": "3.8.8"
  },
  "vscode": {
   "interpreter": {
    "hash": "892b1dbae191cb403baa4bf29e539705d2bb168fb9a756bde180b5b738f682b9"
   }
  }
 },
 "nbformat": 4,
 "nbformat_minor": 1
}
