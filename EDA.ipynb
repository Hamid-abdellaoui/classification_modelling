{
 "cells": [
  {
   "attachments": {},
   "cell_type": "markdown",
   "metadata": {},
   "source": [
    "### Importing libraries"
   ]
  },
  {
   "cell_type": "code",
   "execution_count": 84,
   "metadata": {},
   "outputs": [],
   "source": [
    "import pandas as pd \n",
    "import matplotlib.pyplot as plt \n",
    "import numpy as np \n",
    "import seaborn as sns"
   ]
  },
  {
   "attachments": {},
   "cell_type": "markdown",
   "metadata": {},
   "source": [
    "### Reading Data"
   ]
  },
  {
   "cell_type": "code",
   "execution_count": 85,
   "metadata": {},
   "outputs": [],
   "source": [
    "df = pd.read_csv(\"new_Base_CDM_balanced_V2.csv\")\n",
    "### df = pd.read_csv(\"new_Base_CDM_balanced_V2.csv\",sep=\";\")"
   ]
  },
  {
   "cell_type": "code",
   "execution_count": 86,
   "metadata": {},
   "outputs": [
    {
     "data": {
      "text/html": [
       "<div>\n",
       "<style scoped>\n",
       "    .dataframe tbody tr th:only-of-type {\n",
       "        vertical-align: middle;\n",
       "    }\n",
       "\n",
       "    .dataframe tbody tr th {\n",
       "        vertical-align: top;\n",
       "    }\n",
       "\n",
       "    .dataframe thead th {\n",
       "        text-align: right;\n",
       "    }\n",
       "</style>\n",
       "<table border=\"1\" class=\"dataframe\">\n",
       "  <thead>\n",
       "    <tr style=\"text-align: right;\">\n",
       "      <th></th>\n",
       "      <th>Y</th>\n",
       "      <th>X1</th>\n",
       "      <th>X2</th>\n",
       "      <th>X3</th>\n",
       "      <th>X4</th>\n",
       "      <th>X5</th>\n",
       "      <th>X6</th>\n",
       "      <th>X7</th>\n",
       "    </tr>\n",
       "  </thead>\n",
       "  <tbody>\n",
       "    <tr>\n",
       "      <th>1</th>\n",
       "      <td>No_Displ</td>\n",
       "      <td>2</td>\n",
       "      <td>20.2</td>\n",
       "      <td>47400</td>\n",
       "      <td>36</td>\n",
       "      <td>CORA</td>\n",
       "      <td>72</td>\n",
       "      <td>No_Feat</td>\n",
       "    </tr>\n",
       "    <tr>\n",
       "      <th>2</th>\n",
       "      <td>No_Displ</td>\n",
       "      <td>2</td>\n",
       "      <td>11.9</td>\n",
       "      <td>62000</td>\n",
       "      <td>24</td>\n",
       "      <td>LECLERC</td>\n",
       "      <td>48</td>\n",
       "      <td>No_Feat</td>\n",
       "    </tr>\n",
       "    <tr>\n",
       "      <th>3</th>\n",
       "      <td>No_Displ</td>\n",
       "      <td>8</td>\n",
       "      <td>29.52</td>\n",
       "      <td>60661</td>\n",
       "      <td>60</td>\n",
       "      <td>AUCHAN</td>\n",
       "      <td>480</td>\n",
       "      <td>No_Feat</td>\n",
       "    </tr>\n",
       "    <tr>\n",
       "      <th>4</th>\n",
       "      <td>No_Displ</td>\n",
       "      <td>2</td>\n",
       "      <td>16.2</td>\n",
       "      <td>59677</td>\n",
       "      <td>19</td>\n",
       "      <td>CARREFOUR</td>\n",
       "      <td>38</td>\n",
       "      <td>No_Feat</td>\n",
       "    </tr>\n",
       "    <tr>\n",
       "      <th>5</th>\n",
       "      <td>No_Displ</td>\n",
       "      <td>5</td>\n",
       "      <td>62.1</td>\n",
       "      <td>142602</td>\n",
       "      <td>50</td>\n",
       "      <td>CORA</td>\n",
       "      <td>250</td>\n",
       "      <td>No_Feat</td>\n",
       "    </tr>\n",
       "  </tbody>\n",
       "</table>\n",
       "</div>"
      ],
      "text/plain": [
       "          Y X1     X2      X3  X4         X5   X6       X7\n",
       "1  No_Displ  2   20.2   47400  36       CORA   72  No_Feat\n",
       "2  No_Displ  2   11.9   62000  24    LECLERC   48  No_Feat\n",
       "3  No_Displ  8  29.52   60661  60     AUCHAN  480  No_Feat\n",
       "4  No_Displ  2   16.2   59677  19  CARREFOUR   38  No_Feat\n",
       "5  No_Displ  5   62.1  142602  50       CORA  250  No_Feat"
      ]
     },
     "execution_count": 86,
     "metadata": {},
     "output_type": "execute_result"
    }
   ],
   "source": [
    "#Removing first line\n",
    "df.drop(0,axis=0,inplace = True) \n",
    "df.head()"
   ]
  },
  {
   "cell_type": "code",
   "execution_count": 87,
   "metadata": {},
   "outputs": [],
   "source": [
    "#Renaming variables \n",
    "New_names = {\"Y\":\"Display\",\"X1\":\"cor_sales_in_vol\",\"X2\":\"cor_sales_in_val\",\"X3\":\"CA_mag\",\"X4\":\"value\",\n",
    "\"X5\":\"ENSEIGNE\",\"X6\":\"VenteConv\",\"X7\":\"Feature\"}\n",
    "df.rename(columns = New_names , inplace = True)"
   ]
  },
  {
   "cell_type": "code",
   "execution_count": 88,
   "metadata": {},
   "outputs": [
    {
     "data": {
      "text/plain": [
       "No_Displ    13000\n",
       "Displ       12782\n",
       "Name: Display, dtype: int64"
      ]
     },
     "execution_count": 88,
     "metadata": {},
     "output_type": "execute_result"
    }
   ],
   "source": [
    "pd.value_counts(df[\"Display\"])\n",
    "# No_Displ : 13000\n",
    "# Displ : 12782\n",
    "# =========> balanced data"
   ]
  },
  {
   "cell_type": "code",
   "execution_count": 89,
   "metadata": {},
   "outputs": [
    {
     "data": {
      "text/plain": [
       "No_Feat    19495\n",
       "Feat        6287\n",
       "Name: Feature, dtype: int64"
      ]
     },
     "execution_count": 89,
     "metadata": {},
     "output_type": "execute_result"
    }
   ],
   "source": [
    "pd.value_counts(df[\"Feature\"])"
   ]
  },
  {
   "cell_type": "code",
   "execution_count": 90,
   "metadata": {},
   "outputs": [
    {
     "data": {
      "text/html": [
       "<div>\n",
       "<style scoped>\n",
       "    .dataframe tbody tr th:only-of-type {\n",
       "        vertical-align: middle;\n",
       "    }\n",
       "\n",
       "    .dataframe tbody tr th {\n",
       "        vertical-align: top;\n",
       "    }\n",
       "\n",
       "    .dataframe thead th {\n",
       "        text-align: right;\n",
       "    }\n",
       "</style>\n",
       "<table border=\"1\" class=\"dataframe\">\n",
       "  <thead>\n",
       "    <tr style=\"text-align: right;\">\n",
       "      <th></th>\n",
       "      <th>Display</th>\n",
       "      <th>cor_sales_in_vol</th>\n",
       "      <th>cor_sales_in_val</th>\n",
       "      <th>CA_mag</th>\n",
       "      <th>value</th>\n",
       "      <th>ENSEIGNE</th>\n",
       "      <th>VenteConv</th>\n",
       "      <th>Feature</th>\n",
       "    </tr>\n",
       "  </thead>\n",
       "  <tbody>\n",
       "    <tr>\n",
       "      <th>count</th>\n",
       "      <td>25782</td>\n",
       "      <td>25782</td>\n",
       "      <td>25782</td>\n",
       "      <td>25782</td>\n",
       "      <td>25782</td>\n",
       "      <td>25782</td>\n",
       "      <td>25782</td>\n",
       "      <td>25782</td>\n",
       "    </tr>\n",
       "    <tr>\n",
       "      <th>unique</th>\n",
       "      <td>2</td>\n",
       "      <td>363</td>\n",
       "      <td>8957</td>\n",
       "      <td>323</td>\n",
       "      <td>84</td>\n",
       "      <td>19</td>\n",
       "      <td>1589</td>\n",
       "      <td>2</td>\n",
       "    </tr>\n",
       "    <tr>\n",
       "      <th>top</th>\n",
       "      <td>No_Displ</td>\n",
       "      <td>1</td>\n",
       "      <td>7.5</td>\n",
       "      <td>109503</td>\n",
       "      <td>40</td>\n",
       "      <td>CARREFOUR</td>\n",
       "      <td>40</td>\n",
       "      <td>No_Feat</td>\n",
       "    </tr>\n",
       "    <tr>\n",
       "      <th>freq</th>\n",
       "      <td>13000</td>\n",
       "      <td>5827</td>\n",
       "      <td>64</td>\n",
       "      <td>255</td>\n",
       "      <td>3314</td>\n",
       "      <td>4629</td>\n",
       "      <td>828</td>\n",
       "      <td>19495</td>\n",
       "    </tr>\n",
       "  </tbody>\n",
       "</table>\n",
       "</div>"
      ],
      "text/plain": [
       "         Display cor_sales_in_vol cor_sales_in_val  CA_mag  value   ENSEIGNE  \\\n",
       "count      25782            25782            25782   25782  25782      25782   \n",
       "unique         2              363             8957     323     84         19   \n",
       "top     No_Displ                1              7.5  109503     40  CARREFOUR   \n",
       "freq       13000             5827               64     255   3314       4629   \n",
       "\n",
       "       VenteConv  Feature  \n",
       "count      25782    25782  \n",
       "unique      1589        2  \n",
       "top           40  No_Feat  \n",
       "freq         828    19495  "
      ]
     },
     "execution_count": 90,
     "metadata": {},
     "output_type": "execute_result"
    }
   ],
   "source": [
    "df.describe()"
   ]
  },
  {
   "cell_type": "code",
   "execution_count": 91,
   "metadata": {},
   "outputs": [
    {
     "data": {
      "text/plain": [
       "Display             0\n",
       "cor_sales_in_vol    0\n",
       "cor_sales_in_val    0\n",
       "CA_mag              0\n",
       "value               0\n",
       "ENSEIGNE            0\n",
       "VenteConv           0\n",
       "Feature             0\n",
       "dtype: int64"
      ]
     },
     "execution_count": 91,
     "metadata": {},
     "output_type": "execute_result"
    }
   ],
   "source": [
    "#Checking Missing values\n",
    "df.isnull().sum()"
   ]
  },
  {
   "attachments": {},
   "cell_type": "markdown",
   "metadata": {},
   "source": [
    "### Test d'indépendance de khi-2"
   ]
  },
  {
   "cell_type": "code",
   "execution_count": 92,
   "metadata": {},
   "outputs": [
    {
     "name": "stdout",
     "output_type": "stream",
     "text": [
      "1.1069799512990182e-154\n"
     ]
    }
   ],
   "source": [
    "#### Test de chi-deux entre la variable 'Display' et 'ENSEIGNE' \n",
    "from scipy.stats import chi2_contingency as chi2_contingency\n",
    "\n",
    "contingence = df[[\"Display\",\"ENSEIGNE\"]].pivot_table(index=\"Display\",columns=\"ENSEIGNE\",\n",
    "aggfunc=len).fillna(0).copy().astype(int)\n",
    "\n",
    "khi2, pval , ddl , contingent_theorique = chi2_contingency(contingence)\n",
    "#la p-value est très inférieur à 0.05, on considère donc qu'il existe un lien entre la variable 'Display'\n",
    "# et la varible 'ENSEIGNE'  : il y a dépendance\n",
    "print(pval)\n",
    "\n"
   ]
  },
  {
   "cell_type": "code",
   "execution_count": 93,
   "metadata": {},
   "outputs": [
    {
     "name": "stdout",
     "output_type": "stream",
     "text": [
      "0.0\n"
     ]
    }
   ],
   "source": [
    "#### Test de chi-deux entre la variable 'Display' et 'Feature' \n",
    "\n",
    "khi2, pval , ddl , contingent_theorique = chi2_contingency(contingence)\n",
    "contingence = df[[\"Display\",\"Feature\"]].pivot_table(index=\"Display\",columns=\"Feature\",\n",
    "aggfunc=len).fillna(0).copy().astype(int)\n",
    "\n",
    "khi2, pval , ddl , contingent_theorique = chi2_contingency(contingence)\n",
    "#la p-value est égale à 0 , on considère donc qu'il existe un lien entre la variable 'Display'\n",
    "# et la varible 'Feature'  : il y a dépendance\n",
    "print(pval)\n"
   ]
  },
  {
   "cell_type": "code",
   "execution_count": 94,
   "metadata": {},
   "outputs": [],
   "source": [
    "quantitative_variables = ['cor_sales_in_vol', 'cor_sales_in_val', 'CA_mag', 'value', 'VenteConv']\n",
    "for column_name in quantitative_variables :\n",
    "    df[column_name]=df[column_name].astype(float)"
   ]
  },
  {
   "cell_type": "code",
   "execution_count": 95,
   "metadata": {},
   "outputs": [
    {
     "data": {
      "image/png": "[encoded data removed]",
      "text/plain": [
       "<Figure size 540x360 with 1 Axes>"
      ]
     },
     "metadata": {
      "needs_background": "light"
     },
     "output_type": "display_data"
    }
   ],
   "source": [
    "sns.catplot(x=\"Display\", y=\"CA_mag\", data=df, kind=\"box\", aspect=1.5)\n",
    "plt.title(\"Boxplot for Display vs CA_mag\")\n",
    "plt.show()"
   ]
  },
  {
   "cell_type": "code",
   "execution_count": 97,
   "metadata": {},
   "outputs": [
    {
     "data": {
      "image/png": "[encoded data removed]",
      "text/plain": [
       "<Figure size 540x360 with 1 Axes>"
      ]
     },
     "metadata": {
      "needs_background": "light"
     },
     "output_type": "display_data"
    }
   ],
   "source": [
    "sns.catplot(x=\"ENSEIGNE\", y=\"CA_mag\", data=df, kind=\"box\", aspect=1.5)\n",
    "plt.title(\"Boxplot for Display vs ENSEIGNE\")\n",
    "plt.show()"
   ]
  },
  {
   "cell_type": "code",
   "execution_count": 98,
   "metadata": {},
   "outputs": [
    {
     "data": {
      "image/png": "[encoded data removed]",
      "text/plain": [
       "<Figure size 1152x432 with 2 Axes>"
      ]
     },
     "metadata": {
      "needs_background": "light"
     },
     "output_type": "display_data"
    }
   ],
   "source": [
    "import seaborn as sns\n",
    "# Increase the size of the heatmap.\n",
    "plt.figure(figsize=(16, 6))\n",
    "# Store heatmap object in a variable to easily access it when you want to include more features (such as title).\n",
    "# Set the range of values to be displayed on the colormap from -1 to 1, and set the annotation to True to display the correlation values on the heatmap.\n",
    "heatmap = sns.heatmap(df[quantitative_variables].corr(), vmin=-1, vmax=1, annot=True)\n",
    "# Give a title to the heatmap. Pad defines the distance of the title from the top of the heatmap.\n",
    "heatmap.set_title('Correlation Heatmap', fontdict={'fontsize':12}, pad=12);"
   ]
  },
  {
   "cell_type": "code",
   "execution_count": null,
   "metadata": {},
   "outputs": [],
   "source": []
  }
 ],
 "metadata": {
  "kernelspec": {
   "display_name": "base",
   "language": "python",
   "name": "python3"
  },
  "language_info": {
   "codemirror_mode": {
    "name": "ipython",
    "version": 3
   },
   "file_extension": ".py",
   "mimetype": "text/x-python",
   "name": "python",
   "nbconvert_exporter": "python",
   "pygments_lexer": "ipython3",
   "version": "3.9.12"
  },
  "orig_nbformat": 4,
  "vscode": {
   "interpreter": {
    "hash": "fe697844cfe8a1028ac8cd95af0dad884ddcd4494e6159c72486af12df7aa875"
   }
  }
 },
 "nbformat": 4,
 "nbformat_minor": 2
}
