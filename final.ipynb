{
 "cells": [
  {
   "attachments": {},
   "cell_type": "markdown",
   "metadata": {},
   "source": [
    "### Importing libraries"
   ]
  },
  {
   "cell_type": "code",
   "execution_count": 1,
   "metadata": {},
   "outputs": [],
   "source": [
    "import pandas as pd \n",
    "import matplotlib.pyplot as plt \n",
    "import numpy as np \n",
    "import seaborn as sns"
   ]
  },
  {
   "attachments": {},
   "cell_type": "markdown",
   "metadata": {},
   "source": [
    "### Reading Data"
   ]
  },
  {
   "cell_type": "code",
   "execution_count": 2,
   "metadata": {},
   "outputs": [
    {
     "data": {
      "text/html": [
       "<div>\n",
       "<style scoped>\n",
       "    .dataframe tbody tr th:only-of-type {\n",
       "        vertical-align: middle;\n",
       "    }\n",
       "\n",
       "    .dataframe tbody tr th {\n",
       "        vertical-align: top;\n",
       "    }\n",
       "\n",
       "    .dataframe thead th {\n",
       "        text-align: right;\n",
       "    }\n",
       "</style>\n",
       "<table border=\"1\" class=\"dataframe\">\n",
       "  <thead>\n",
       "    <tr style=\"text-align: right;\">\n",
       "      <th></th>\n",
       "      <th>0</th>\n",
       "      <th>1</th>\n",
       "      <th>2</th>\n",
       "      <th>3</th>\n",
       "      <th>4</th>\n",
       "      <th>5</th>\n",
       "      <th>6</th>\n",
       "      <th>7</th>\n",
       "    </tr>\n",
       "  </thead>\n",
       "  <tbody>\n",
       "    <tr>\n",
       "      <th>0</th>\n",
       "      <td>Display</td>\n",
       "      <td>cor_sales_in_vol</td>\n",
       "      <td>cor_sales_in_val</td>\n",
       "      <td>CA_mag</td>\n",
       "      <td>value</td>\n",
       "      <td>ENSEIGNE</td>\n",
       "      <td>VenteConv</td>\n",
       "      <td>Feature</td>\n",
       "    </tr>\n",
       "    <tr>\n",
       "      <th>1</th>\n",
       "      <td>Y</td>\n",
       "      <td>X1</td>\n",
       "      <td>X2</td>\n",
       "      <td>X3</td>\n",
       "      <td>X4</td>\n",
       "      <td>X5</td>\n",
       "      <td>X6</td>\n",
       "      <td>X7</td>\n",
       "    </tr>\n",
       "  </tbody>\n",
       "</table>\n",
       "</div>"
      ],
      "text/plain": [
       "         0                 1                 2       3      4         5  \\\n",
       "0  Display  cor_sales_in_vol  cor_sales_in_val  CA_mag  value  ENSEIGNE   \n",
       "1        Y                X1                X2      X3     X4        X5   \n",
       "\n",
       "           6        7  \n",
       "0  VenteConv  Feature  \n",
       "1         X6       X7  "
      ]
     },
     "execution_count": 2,
     "metadata": {},
     "output_type": "execute_result"
    }
   ],
   "source": [
    "# load dataset\n",
    "url = \"./new_Base_CDM_balanced_V2.csv\"\n",
    "dataset = pd.read_csv(url)\n",
    "columns = [[dataset[str(c)][0],c ]for c in dataset.columns]\n",
    "\n",
    "dataset.drop(index=dataset.index[0], \n",
    "        axis=0, \n",
    "        inplace=True)\n",
    "cols =pd.DataFrame(columns)\n",
    "cols.transpose()"
   ]
  },
  {
   "cell_type": "code",
   "execution_count": null,
   "metadata": {},
   "outputs": [],
   "source": []
  },
  {
   "cell_type": "code",
   "execution_count": 3,
   "metadata": {},
   "outputs": [],
   "source": [
    "#Renaming variables \n",
    "dataset.rename(columns = dict(zip(cols[1], cols[0])) , inplace = True)"
   ]
  },
  {
   "cell_type": "code",
   "execution_count": 4,
   "metadata": {},
   "outputs": [
    {
     "data": {
      "text/html": [
       "<div>\n",
       "<style scoped>\n",
       "    .dataframe tbody tr th:only-of-type {\n",
       "        vertical-align: middle;\n",
       "    }\n",
       "\n",
       "    .dataframe tbody tr th {\n",
       "        vertical-align: top;\n",
       "    }\n",
       "\n",
       "    .dataframe thead th {\n",
       "        text-align: right;\n",
       "    }\n",
       "</style>\n",
       "<table border=\"1\" class=\"dataframe\">\n",
       "  <thead>\n",
       "    <tr style=\"text-align: right;\">\n",
       "      <th></th>\n",
       "      <th>Display</th>\n",
       "      <th>cor_sales_in_vol</th>\n",
       "      <th>cor_sales_in_val</th>\n",
       "      <th>CA_mag</th>\n",
       "      <th>value</th>\n",
       "      <th>ENSEIGNE</th>\n",
       "      <th>VenteConv</th>\n",
       "      <th>Feature</th>\n",
       "    </tr>\n",
       "  </thead>\n",
       "  <tbody>\n",
       "    <tr>\n",
       "      <th>1</th>\n",
       "      <td>No_Displ</td>\n",
       "      <td>2</td>\n",
       "      <td>20.2</td>\n",
       "      <td>47400</td>\n",
       "      <td>36</td>\n",
       "      <td>CORA</td>\n",
       "      <td>72</td>\n",
       "      <td>No_Feat</td>\n",
       "    </tr>\n",
       "    <tr>\n",
       "      <th>2</th>\n",
       "      <td>No_Displ</td>\n",
       "      <td>2</td>\n",
       "      <td>11.9</td>\n",
       "      <td>62000</td>\n",
       "      <td>24</td>\n",
       "      <td>LECLERC</td>\n",
       "      <td>48</td>\n",
       "      <td>No_Feat</td>\n",
       "    </tr>\n",
       "    <tr>\n",
       "      <th>3</th>\n",
       "      <td>No_Displ</td>\n",
       "      <td>8</td>\n",
       "      <td>29.52</td>\n",
       "      <td>60661</td>\n",
       "      <td>60</td>\n",
       "      <td>AUCHAN</td>\n",
       "      <td>480</td>\n",
       "      <td>No_Feat</td>\n",
       "    </tr>\n",
       "    <tr>\n",
       "      <th>4</th>\n",
       "      <td>No_Displ</td>\n",
       "      <td>2</td>\n",
       "      <td>16.2</td>\n",
       "      <td>59677</td>\n",
       "      <td>19</td>\n",
       "      <td>CARREFOUR</td>\n",
       "      <td>38</td>\n",
       "      <td>No_Feat</td>\n",
       "    </tr>\n",
       "    <tr>\n",
       "      <th>5</th>\n",
       "      <td>No_Displ</td>\n",
       "      <td>5</td>\n",
       "      <td>62.1</td>\n",
       "      <td>142602</td>\n",
       "      <td>50</td>\n",
       "      <td>CORA</td>\n",
       "      <td>250</td>\n",
       "      <td>No_Feat</td>\n",
       "    </tr>\n",
       "  </tbody>\n",
       "</table>\n",
       "</div>"
      ],
      "text/plain": [
       "    Display cor_sales_in_vol cor_sales_in_val  CA_mag value   ENSEIGNE  \\\n",
       "1  No_Displ                2             20.2   47400    36       CORA   \n",
       "2  No_Displ                2             11.9   62000    24    LECLERC   \n",
       "3  No_Displ                8            29.52   60661    60     AUCHAN   \n",
       "4  No_Displ                2             16.2   59677    19  CARREFOUR   \n",
       "5  No_Displ                5             62.1  142602    50       CORA   \n",
       "\n",
       "  VenteConv  Feature  \n",
       "1        72  No_Feat  \n",
       "2        48  No_Feat  \n",
       "3       480  No_Feat  \n",
       "4        38  No_Feat  \n",
       "5       250  No_Feat  "
      ]
     },
     "execution_count": 4,
     "metadata": {},
     "output_type": "execute_result"
    }
   ],
   "source": [
    "dataset.head()"
   ]
  },
  {
   "cell_type": "code",
   "execution_count": 5,
   "metadata": {},
   "outputs": [],
   "source": [
    "quantitative_variables = ['cor_sales_in_vol', 'cor_sales_in_val', 'CA_mag', 'value', 'VenteConv']\n",
    "for column_name in quantitative_variables :\n",
    "    dataset[column_name]=dataset[column_name].astype(float)"
   ]
  },
  {
   "cell_type": "code",
   "execution_count": 6,
   "metadata": {},
   "outputs": [
    {
     "data": {
      "text/plain": [
       "Text(0.5, 1.0, 'Correlation Heatmap')"
      ]
     },
     "execution_count": 6,
     "metadata": {},
     "output_type": "execute_result"
    },
    {
     "data": {
      "image/png": "[encoded data removed]",
      "text/plain": [
       "<Figure size 1152x432 with 2 Axes>"
      ]
     },
     "metadata": {
      "needs_background": "light"
     },
     "output_type": "display_data"
    }
   ],
   "source": [
    "# Increase the size of the heatmap.\n",
    "plt.figure(figsize=(16, 6))\n",
    "# Store heatmap object in a variable to easily access it when you want to include more features (such as title).\n",
    "# Set the range of values to be displayed on the colormap from -1 to 1, and set the annotation to True to display the correlation values on the heatmap.\n",
    "heatmap = sns.heatmap(dataset.iloc[:,[1,2,3,4,6]].corr() , vmin=-1, vmax=1, annot=True)\n",
    "# Give a title to the heatmap. Pad defines the distance of the title from the top of the heatmap.\n",
    "heatmap.set_title('Correlation Heatmap', fontdict={'fontsize':12}, pad=12)"
   ]
  },
  {
   "attachments": {},
   "cell_type": "markdown",
   "metadata": {},
   "source": [
    "### ACP"
   ]
  },
  {
   "cell_type": "code",
   "execution_count": 7,
   "metadata": {},
   "outputs": [],
   "source": [
    "from sklearn.decomposition import PCA\n",
    "continuous_variables = dataset.iloc[:,[1,2,3,4,6]].values\n",
    "pca = PCA(n_components=1)\n",
    "new_continuous_variables = pca.fit_transform(continuous_variables)"
   ]
  },
  {
   "cell_type": "code",
   "execution_count": 8,
   "metadata": {},
   "outputs": [
    {
     "name": "stdout",
     "output_type": "stream",
     "text": [
      "[0.99894282]\n",
      "[8819343.08013713]\n"
     ]
    }
   ],
   "source": [
    "print(pca.explained_variance_ratio_)\n",
    "print(pca.singular_values_)"
   ]
  },
  {
   "cell_type": "code",
   "execution_count": 9,
   "metadata": {},
   "outputs": [],
   "source": [
    "dataset[\"v1\"] = new_continuous_variables"
   ]
  },
  {
   "cell_type": "code",
   "execution_count": 10,
   "metadata": {},
   "outputs": [
    {
     "data": {
      "text/html": [
       "<div>\n",
       "<style scoped>\n",
       "    .dataframe tbody tr th:only-of-type {\n",
       "        vertical-align: middle;\n",
       "    }\n",
       "\n",
       "    .dataframe tbody tr th {\n",
       "        vertical-align: top;\n",
       "    }\n",
       "\n",
       "    .dataframe thead th {\n",
       "        text-align: right;\n",
       "    }\n",
       "</style>\n",
       "<table border=\"1\" class=\"dataframe\">\n",
       "  <thead>\n",
       "    <tr style=\"text-align: right;\">\n",
       "      <th></th>\n",
       "      <th>Display</th>\n",
       "      <th>cor_sales_in_vol</th>\n",
       "      <th>cor_sales_in_val</th>\n",
       "      <th>CA_mag</th>\n",
       "      <th>value</th>\n",
       "      <th>ENSEIGNE</th>\n",
       "      <th>VenteConv</th>\n",
       "      <th>Feature</th>\n",
       "      <th>v1</th>\n",
       "    </tr>\n",
       "  </thead>\n",
       "  <tbody>\n",
       "    <tr>\n",
       "      <th>1</th>\n",
       "      <td>No_Displ</td>\n",
       "      <td>2.0</td>\n",
       "      <td>20.2</td>\n",
       "      <td>47400.0</td>\n",
       "      <td>36.0</td>\n",
       "      <td>CORA</td>\n",
       "      <td>72.0</td>\n",
       "      <td>No_Feat</td>\n",
       "      <td>-17245.376600</td>\n",
       "    </tr>\n",
       "    <tr>\n",
       "      <th>2</th>\n",
       "      <td>No_Displ</td>\n",
       "      <td>2.0</td>\n",
       "      <td>11.9</td>\n",
       "      <td>62000.0</td>\n",
       "      <td>24.0</td>\n",
       "      <td>LECLERC</td>\n",
       "      <td>48.0</td>\n",
       "      <td>No_Feat</td>\n",
       "      <td>-2646.256414</td>\n",
       "    </tr>\n",
       "  </tbody>\n",
       "</table>\n",
       "</div>"
      ],
      "text/plain": [
       "    Display  cor_sales_in_vol  cor_sales_in_val   CA_mag  value ENSEIGNE  \\\n",
       "1  No_Displ               2.0              20.2  47400.0   36.0     CORA   \n",
       "2  No_Displ               2.0              11.9  62000.0   24.0  LECLERC   \n",
       "\n",
       "   VenteConv  Feature            v1  \n",
       "1       72.0  No_Feat -17245.376600  \n",
       "2       48.0  No_Feat  -2646.256414  "
      ]
     },
     "execution_count": 10,
     "metadata": {},
     "output_type": "execute_result"
    }
   ],
   "source": [
    "dataset.head(2)"
   ]
  },
  {
   "cell_type": "code",
   "execution_count": 11,
   "metadata": {},
   "outputs": [],
   "source": [
    "from sklearn.preprocessing import KBinsDiscretizer\n",
    "discretizer = KBinsDiscretizer(n_bins=2 , encode=\"onehot-dense\" , strategy='kmeans')\n",
    "Xt = discretizer.fit_transform(dataset.loc[:,[\"v1\"]].values)"
   ]
  },
  {
   "cell_type": "code",
   "execution_count": 12,
   "metadata": {},
   "outputs": [],
   "source": [
    "dataset[[\"v_discretizer\"]] = np.reshape(Xt[:,0],(-1,1))"
   ]
  },
  {
   "cell_type": "code",
   "execution_count": 18,
   "metadata": {},
   "outputs": [
    {
     "data": {
      "text/html": [
       "<div>\n",
       "<style scoped>\n",
       "    .dataframe tbody tr th:only-of-type {\n",
       "        vertical-align: middle;\n",
       "    }\n",
       "\n",
       "    .dataframe tbody tr th {\n",
       "        vertical-align: top;\n",
       "    }\n",
       "\n",
       "    .dataframe thead th {\n",
       "        text-align: right;\n",
       "    }\n",
       "</style>\n",
       "<table border=\"1\" class=\"dataframe\">\n",
       "  <thead>\n",
       "    <tr style=\"text-align: right;\">\n",
       "      <th></th>\n",
       "      <th>Display</th>\n",
       "      <th>cor_sales_in_vol</th>\n",
       "      <th>cor_sales_in_val</th>\n",
       "      <th>CA_mag</th>\n",
       "      <th>value</th>\n",
       "      <th>ENSEIGNE</th>\n",
       "      <th>VenteConv</th>\n",
       "      <th>Feature</th>\n",
       "      <th>v1</th>\n",
       "      <th>v_discretizer</th>\n",
       "    </tr>\n",
       "  </thead>\n",
       "  <tbody>\n",
       "    <tr>\n",
       "      <th>1</th>\n",
       "      <td>No_Displ</td>\n",
       "      <td>2.0</td>\n",
       "      <td>20.2</td>\n",
       "      <td>47400.0</td>\n",
       "      <td>36.0</td>\n",
       "      <td>CORA</td>\n",
       "      <td>72.0</td>\n",
       "      <td>No_Feat</td>\n",
       "      <td>-17245.3766</td>\n",
       "      <td>1.0</td>\n",
       "    </tr>\n",
       "  </tbody>\n",
       "</table>\n",
       "</div>"
      ],
      "text/plain": [
       "    Display  cor_sales_in_vol  cor_sales_in_val   CA_mag  value ENSEIGNE  \\\n",
       "1  No_Displ               2.0              20.2  47400.0   36.0     CORA   \n",
       "\n",
       "   VenteConv  Feature          v1  v_discretizer  \n",
       "1       72.0  No_Feat -17245.3766            1.0  "
      ]
     },
     "execution_count": 18,
     "metadata": {},
     "output_type": "execute_result"
    }
   ],
   "source": [
    "dataset.head(1)"
   ]
  },
  {
   "cell_type": "code",
   "execution_count": 19,
   "metadata": {},
   "outputs": [],
   "source": [
    "dataset[\"v_discretizer2\"] = [ \"no\" if i==1.0 else \"yes\" for i in dataset[\"v_discretizer\"] ]"
   ]
  },
  {
   "cell_type": "code",
   "execution_count": 20,
   "metadata": {},
   "outputs": [
    {
     "data": {
      "text/html": [
       "<div>\n",
       "<style scoped>\n",
       "    .dataframe tbody tr th:only-of-type {\n",
       "        vertical-align: middle;\n",
       "    }\n",
       "\n",
       "    .dataframe tbody tr th {\n",
       "        vertical-align: top;\n",
       "    }\n",
       "\n",
       "    .dataframe thead th {\n",
       "        text-align: right;\n",
       "    }\n",
       "</style>\n",
       "<table border=\"1\" class=\"dataframe\">\n",
       "  <thead>\n",
       "    <tr style=\"text-align: right;\">\n",
       "      <th></th>\n",
       "      <th>Display</th>\n",
       "      <th>cor_sales_in_vol</th>\n",
       "      <th>cor_sales_in_val</th>\n",
       "      <th>CA_mag</th>\n",
       "      <th>value</th>\n",
       "      <th>ENSEIGNE</th>\n",
       "      <th>VenteConv</th>\n",
       "      <th>Feature</th>\n",
       "      <th>v1</th>\n",
       "      <th>v_discretizer</th>\n",
       "      <th>v_discretizer2</th>\n",
       "    </tr>\n",
       "  </thead>\n",
       "  <tbody>\n",
       "    <tr>\n",
       "      <th>1</th>\n",
       "      <td>No_Displ</td>\n",
       "      <td>2.0</td>\n",
       "      <td>20.2</td>\n",
       "      <td>47400.0</td>\n",
       "      <td>36.0</td>\n",
       "      <td>CORA</td>\n",
       "      <td>72.0</td>\n",
       "      <td>No_Feat</td>\n",
       "      <td>-17245.3766</td>\n",
       "      <td>1.0</td>\n",
       "      <td>no</td>\n",
       "    </tr>\n",
       "  </tbody>\n",
       "</table>\n",
       "</div>"
      ],
      "text/plain": [
       "    Display  cor_sales_in_vol  cor_sales_in_val   CA_mag  value ENSEIGNE  \\\n",
       "1  No_Displ               2.0              20.2  47400.0   36.0     CORA   \n",
       "\n",
       "   VenteConv  Feature          v1  v_discretizer v_discretizer2  \n",
       "1       72.0  No_Feat -17245.3766            1.0             no  "
      ]
     },
     "execution_count": 20,
     "metadata": {},
     "output_type": "execute_result"
    }
   ],
   "source": [
    "dataset.head(1)"
   ]
  },
  {
   "cell_type": "code",
   "execution_count": 16,
   "metadata": {},
   "outputs": [
    {
     "data": {
      "text/html": [
       "<div>\n",
       "<style scoped>\n",
       "    .dataframe tbody tr th:only-of-type {\n",
       "        vertical-align: middle;\n",
       "    }\n",
       "\n",
       "    .dataframe tbody tr th {\n",
       "        vertical-align: top;\n",
       "    }\n",
       "\n",
       "    .dataframe thead th {\n",
       "        text-align: right;\n",
       "    }\n",
       "</style>\n",
       "<table border=\"1\" class=\"dataframe\">\n",
       "  <thead>\n",
       "    <tr style=\"text-align: right;\">\n",
       "      <th></th>\n",
       "      <th>Display</th>\n",
       "      <th>cor_sales_in_vol</th>\n",
       "      <th>cor_sales_in_val</th>\n",
       "      <th>CA_mag</th>\n",
       "      <th>value</th>\n",
       "      <th>ENSEIGNE</th>\n",
       "      <th>VenteConv</th>\n",
       "      <th>Feature</th>\n",
       "      <th>v1</th>\n",
       "      <th>v_discretizer</th>\n",
       "    </tr>\n",
       "  </thead>\n",
       "  <tbody>\n",
       "    <tr>\n",
       "      <th>1</th>\n",
       "      <td>No_Displ</td>\n",
       "      <td>2.0</td>\n",
       "      <td>20.2</td>\n",
       "      <td>47400.0</td>\n",
       "      <td>36.0</td>\n",
       "      <td>CORA</td>\n",
       "      <td>72.0</td>\n",
       "      <td>No_Feat</td>\n",
       "      <td>-17245.376600</td>\n",
       "      <td>1.0</td>\n",
       "    </tr>\n",
       "    <tr>\n",
       "      <th>2</th>\n",
       "      <td>No_Displ</td>\n",
       "      <td>2.0</td>\n",
       "      <td>11.9</td>\n",
       "      <td>62000.0</td>\n",
       "      <td>24.0</td>\n",
       "      <td>LECLERC</td>\n",
       "      <td>48.0</td>\n",
       "      <td>No_Feat</td>\n",
       "      <td>-2646.256414</td>\n",
       "      <td>1.0</td>\n",
       "    </tr>\n",
       "  </tbody>\n",
       "</table>\n",
       "</div>"
      ],
      "text/plain": [
       "    Display  cor_sales_in_vol  cor_sales_in_val   CA_mag  value ENSEIGNE  \\\n",
       "1  No_Displ               2.0              20.2  47400.0   36.0     CORA   \n",
       "2  No_Displ               2.0              11.9  62000.0   24.0  LECLERC   \n",
       "\n",
       "   VenteConv  Feature            v1  v_discretizer  \n",
       "1       72.0  No_Feat -17245.376600            1.0  \n",
       "2       48.0  No_Feat  -2646.256414            1.0  "
      ]
     },
     "execution_count": 16,
     "metadata": {},
     "output_type": "execute_result"
    }
   ],
   "source": [
    "pd.crosstab(a, [b, c], rownames=['a'], colnames=['b', 'c'])"
   ]
  },
  {
   "cell_type": "code",
   "execution_count": null,
   "metadata": {},
   "outputs": [],
   "source": []
  },
  {
   "cell_type": "code",
   "execution_count": 1,
   "metadata": {},
   "outputs": [
    {
     "name": "stderr",
     "output_type": "stream",
     "text": [
      "c:\\Users\\hp\\AppData\\Local\\Programs\\Python\\Python38\\lib\\site-packages\\numpy\\_distributor_init.py:30: UserWarning: loaded more than 1 DLL from .libs:\n",
      "c:\\Users\\hp\\AppData\\Local\\Programs\\Python\\Python38\\lib\\site-packages\\numpy\\.libs\\libopenblas.el2c6ple4zyw3eceviv3oxxgrn2nrfm2.gfortran-win_amd64.dll\n",
      "c:\\Users\\hp\\AppData\\Local\\Programs\\Python\\Python38\\lib\\site-packages\\numpy\\.libs\\libopenblas.PYQHXLVVQ7VESDPUVUADXEVJOBGHJPAY.gfortran-win_amd64.dll\n",
      "c:\\Users\\hp\\AppData\\Local\\Programs\\Python\\Python38\\lib\\site-packages\\numpy\\.libs\\libopenblas.WCDJNK7YVMPZQ2ME2ZZHJJRJ3JIKNDB7.gfortran-win_amd64.dll\n",
      "c:\\Users\\hp\\AppData\\Local\\Programs\\Python\\Python38\\lib\\site-packages\\numpy\\.libs\\libopenblas.XWYDX2IKJW2NMTWSFYNGFUWKQU3LYTCZ.gfortran-win_amd64.dll\n",
      "  warnings.warn(\"loaded more than 1 DLL from .libs:\"\n"
     ]
    }
   ],
   "source": [
    "import numpy as np\n",
    "\n",
    "def supervised_discretize(X, y, num_bins=10):\n",
    "    \"\"\"\n",
    "    Perform supervised discretization of a continuous feature using the MDLPC algorithm.\n",
    "    \n",
    "    Parameters:\n",
    "    - X (1D array): Continuous feature to discretize.\n",
    "    - y (1D array): Target labels.\n",
    "    - num_bins (int): Number of bins to use for discretization.\n",
    "    \n",
    "    Returns:\n",
    "    - bin_edges (1D array): Bin edges for discretized feature.\n",
    "    \"\"\"\n",
    "    # Sort X and y in ascending order of X\n",
    "    X, y = zip(*sorted(zip(X, y)))\n",
    "    \n",
    "    # Initialize list of bin edges\n",
    "    bin_edges = [X[0]]\n",
    "    \n",
    "    # Initialize minimum description length\n",
    "    min_description_length = float(\"inf\")\n",
    "    \n",
    "    # Iterate over all possible bin splits\n",
    "    for i in range(1, len(X)):\n",
    "        # Calculate entropy gain and description length of current split\n",
    "        entropy_gain, description_length = calc_mdl(y[:i], y[i:])\n",
    "        \n",
    "        # If description length is lower than current minimum, update minimum and add current value of X as a bin edge\n",
    "        if description_length < min_description_length:\n",
    "            min_description_length = description_length\n",
    "            bin_edges.append(X[i])\n",
    "            \n",
    "        # If number of bin edges exceeds num_bins, return the bin edges\n",
    "        if len(bin_edges) > num_bins:\n",
    "            return bin_edges\n",
    "    \n",
    "    # Return bin edges\n",
    "    return bin_edges\n",
    "\n",
    "def calc_mdl(y1, y2):\n",
    "    \"\"\"\n",
    "    Calculate the entropy gain and description length of a split of a continuous feature.\n",
    "    \n",
    "    Parameters:\n",
    "    - y1 (1D array): Target labels for first group of feature values.\n",
    "    - y2 (1D array): Target labels for second group of feature values.\n",
    "    \n",
    "    Returns:\n",
    "    - entropy_gain (float): Entropy gain of the split.\n",
    "    - description_length (float): Description length of the split.\n",
    "    \"\"\"\n",
    "    # Calculate entropy gain of the split\n",
    "    entropy_gain = calc_entropy_gain(y1, y2)\n",
    "    \n",
    "    # Calculate size of first and second groups\n",
    "    size_1 = len(y1)\n",
    "    size_2 = len(y2)\n",
    "    \n",
    "    # Calculate number of bits required to describe the split\n",
    "    description_length = np.log2(size_1 + size_2) + (size_1 / (size_1 + size_2)) * np.log2(size_1) + (size_2 / (size_1 + size_2)) * np.log2(size_2)\n",
    "    \n",
    "    return entropy_gain, description_length\n",
    "\n",
    "def calc_entropy_gain(y1, y2):\n",
    "    \"\"\"\n",
    "    Calculate the entropy gain of a split of a continuous feature.\n",
    "    \n",
    "    Parameters:\n",
    "    - y1 (1D array): Target labels for first group of feature values.\n",
    "    - y2 (1D array): Target labels for second group of feature values.\n",
    "    \n",
    "    Returns:\n",
    "    - entropy_gain (float): Entropy gain of the split.\n",
    "    \"\"\"\n",
    "    # Calculate entropy of entire dataset\n",
    "    entropy_total = calc_entropy(np.concatenate((y1, y2)))\n",
    "    \n",
    "    # Calculate entropy of first group\n",
    "    entropy_1 = calc_entropy(y1)\n",
    "    \n",
    "    # Calculate entropy of second group\n",
    "    entropy_2 = calc_entropy(y2)\n",
    "    \n",
    "    # Calculate size of first and second groups\n",
    "    size_1 = len(y1)\n",
    "    size_2 = len(y2)\n",
    "    \n",
    "    # Calculate weighted average of entropies\n",
    "    entropy_avg = (size_1 / (size_1 + size_2)) * entropy_1 + (size_2 / (size_1 + size_2)) * entropy_2\n",
    "    \n",
    "    # Return entropy gain\n",
    "    return entropy_total - entropy_avg\n",
    "\n",
    "def calc_entropy(y):\n",
    "    \"\"\"\n",
    "    Calculate the entropy of a group of target labels.\n",
    "    \n",
    "    Parameters:\n",
    "    - y (1D array): Target labels.\n",
    "    \n",
    "    Returns:\n",
    "    - entropy (float): Entropy of the group.\n",
    "    \"\"\"\n",
    "    # Get unique target labels\n",
    "    labels = np.unique(y)\n",
    "    \n",
    "    # Initialize entropy\n",
    "    entropy = 0\n",
    "    \n",
    "    # Calculate probability of each class\n",
    "    for label in labels:\n",
    "        p = np.sum(y == label) / len(y)\n",
    "        \n",
    "        # Add to entropy\n",
    "        if p > 0:\n",
    "            entropy -= p * np.log2(p)\n",
    "    \n",
    "    return entropy\n",
    "\n",
    "\n",
    "\n",
    "\n",
    "\n"
   ]
  },
  {
   "cell_type": "code",
   "execution_count": 2,
   "metadata": {},
   "outputs": [
    {
     "name": "stdout",
     "output_type": "stream",
     "text": [
      "{2: 0.5700000000000001, 3: 0.5700000000000001, 4: 0.5700000000000001, 5: 0.5700000000000001, 6: 0.59, 7: 0.59, 8: 0.59, 9: 0.59, 10: 0.59, 11: 0.59, 12: 0.59, 13: 0.59, 14: 0.59, 15: 0.59, 16: 0.59, 17: 0.59, 18: 0.59, 19: 0.59}\n",
      "Best num_bins: 6\n"
     ]
    }
   ],
   "source": [
    "import numpy as np\n",
    "from sklearn.model_selection import KFold\n",
    "from sklearn.linear_model import LogisticRegression\n",
    "from sklearn.metrics import accuracy_score\n",
    "\n",
    "# Generate some random continuous feature and target labels\n",
    "np.random.seed(0)\n",
    "X = np.random.normal(size=100)\n",
    "y = np.random.randint(0, 2, size=100)\n",
    "\n",
    "# Define number of folds for cross-validation\n",
    "num_folds = 5\n",
    "\n",
    "# Define range of values for num_bins\n",
    "num_bins_range = range(2, 20)\n",
    "\n",
    "# Initialize dictionary to store results\n",
    "results = {}\n",
    "\n",
    "# Create KFold object\n",
    "kf = KFold(n_splits=num_folds)\n",
    "\n",
    "# Iterate over num_bins values\n",
    "for num_bins in num_bins_range:\n",
    "    # Initialize list to store accuracy scores for current value of num_bins\n",
    "    scores = []\n",
    "    \n",
    "    # Iterate over folds\n",
    "    for train_index, val_index in kf.split(X):\n",
    "        # Get train and validation sets\n",
    "        X_train, X_val = X[train_index], X[val_index]\n",
    "        y_train, y_val = y[train_index], y[val_index]\n",
    "        \n",
    "        # Perform supervised discretization on train set\n",
    "        bin_edges = supervised_discretize(X_train, y_train, num_bins=num_bins)\n",
    "        \n",
    "        # Discretize train and validation sets using bin edges\n",
    "        X_train_discrete = np.digitize(X_train, bin_edges)\n",
    "        X_val_discrete = np.digitize(X_val, bin_edges)\n",
    "        \n",
    "        # Train logistic regression model on discretized train set\n",
    "        model = LogisticRegression()\n",
    "        model.fit(X_train_discrete.reshape(-1, 1), y_train)\n",
    "        \n",
    "        # Predict on discretized validation set\n",
    "        y_pred = model.predict(X_val_discrete.reshape(-1, 1))\n",
    "        \n",
    "        # Calculate accuracy score\n",
    "        score = accuracy_score(y_val, y_pred)\n",
    "        \n",
    "        # Add score to list\n",
    "        scores.append(score)\n",
    "    \n",
    "    # Calculate mean accuracy score for current value of num_bins\n",
    "    mean_score = np.mean(scores)\n",
    "    \n",
    "    # Add mean score to results dictionary\n",
    "    results[num_bins] = mean_score\n",
    "    \n",
    "# Print results\n",
    "print(results)\n",
    "\n",
    "# Find num_bins value with highest mean accuracy score\n",
    "best_num_bins = max(results, key=results.get)\n",
    "print(f\"Best num_bins: {best_num_bins}\")\n"
   ]
  },
  {
   "cell_type": "code",
   "execution_count": 3,
   "metadata": {},
   "outputs": [
    {
     "name": "stdout",
     "output_type": "stream",
     "text": [
      "[-2.5529898158340787, -1.980796468223927, -1.7262826023316769, -1.7062701906250126, -1.6301983469660446, -1.6138978475579515, -1.5362436862772237]\n",
      "[ 1.76405235  0.40015721  0.97873798  2.2408932   1.86755799 -0.97727788\n",
      "  0.95008842 -0.15135721 -0.10321885  0.4105985 ]\n",
      "[7 7 7 7 7 7 7 7 7 7]\n"
     ]
    }
   ],
   "source": [
    "\n",
    "import numpy as np\n",
    "\n",
    "# Generate some random continuous feature and target labels\n",
    "np.random.seed(0)\n",
    "X = np.random.normal(size=100)\n",
    "y = np.random.randint(0, 2, size=100)\n",
    "\n",
    "# Perform supervised discretization with 10 bins\n",
    "bin_edges = supervised_discretize(X, y, num_bins=6)\n",
    "print(bin_edges)\n",
    "\n",
    "# Discretize feature using bin edges\n",
    "X_discrete = np.digitize(X, bin_edges)\n",
    "\n",
    "# Print first 10 values of original and discretized features\n",
    "print(X[:10])\n",
    "print(X_discrete[:10])"
   ]
  },
  {
   "cell_type": "code",
   "execution_count": 4,
   "metadata": {},
   "outputs": [
    {
     "data": {
      "text/plain": [
       "{1, 2, 3, 4, 5, 6, 7}"
      ]
     },
     "execution_count": 4,
     "metadata": {},
     "output_type": "execute_result"
    }
   ],
   "source": [
    "set(X_discrete)"
   ]
  },
  {
   "cell_type": "code",
   "execution_count": null,
   "metadata": {},
   "outputs": [],
   "source": []
  }
 ],
 "metadata": {
  "kernelspec": {
   "display_name": "Python 3",
   "language": "python",
   "name": "python3"
  },
  "language_info": {
   "codemirror_mode": {
    "name": "ipython",
    "version": 3
   },
   "file_extension": ".py",
   "mimetype": "text/x-python",
   "name": "python",
   "nbconvert_exporter": "python",
   "pygments_lexer": "ipython3",
   "version": "3.8.8 (tags/v3.8.8:024d805, Feb 19 2021, 13:18:16) [MSC v.1928 64 bit (AMD64)]"
  },
  "orig_nbformat": 4,
  "vscode": {
   "interpreter": {
    "hash": "892b1dbae191cb403baa4bf29e539705d2bb168fb9a756bde180b5b738f682b9"
   }
  }
 },
 "nbformat": 4,
 "nbformat_minor": 2
}
